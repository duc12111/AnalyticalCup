{
 "cells": [
  {
   "cell_type": "code",
   "execution_count": 1,
   "id": "4bca3472",
   "metadata": {},
   "outputs": [],
   "source": [
    "import numpy as np # linear algebra\n",
    "import pandas as pd # data processing, CSV file I/O (e.g. pd.read_csv)\n",
    "\n",
    "import os\n",
    "import random\n",
    "from scipy.stats import pearsonr\n",
    "from sklearn.svm import SVC\n",
    "from sklearn.model_selection import train_test_split,RepeatedStratifiedKFold,cross_val_score\n",
    "from sklearn.linear_model import LogisticRegression\n",
    "from sklearn.metrics import classification_report, confusion_matrix\n",
    "from sklearn.ensemble import RandomForestRegressor,RandomForestClassifier,GradientBoostingClassifier,VotingClassifier,BaggingClassifier,AdaBoostClassifier\n",
    "from sklearn.tree import DecisionTreeClassifier\n",
    "import seaborn as sns\n",
    "from scipy.stats import uniform as sp_randFloat\n",
    "from scipy.stats import randint as sp_randInt\n",
    "from sklearn.model_selection import RandomizedSearchCV\n",
    "from matplotlib import pyplot as plt\n",
    "from sklearn.preprocessing import OrdinalEncoder\n",
    "from sklearn.decomposition import PCA\n",
    "from imblearn.ensemble import BalancedRandomForestClassifier\n",
    "from imblearn.over_sampling import RandomOverSampler\n"
   ]
  },
  {
   "cell_type": "code",
   "execution_count": 2,
   "id": "55733dae",
   "metadata": {},
   "outputs": [],
   "source": [
    "transaction = pd.read_csv(\"transactions.csv\")\n",
    "customers = pd.read_csv(\"customers.csv\")\n",
    "geo = pd.read_csv(\"geo.csv\")\n",
    "test_result= pd.read_csv(\"pub_f6Xd8II.csv\")\n",
    "random.seed(2022)"
   ]
  },
  {
   "cell_type": "code",
   "execution_count": 3,
   "id": "3edca831",
   "metadata": {},
   "outputs": [],
   "source": [
    "transaction['MO_ID_COUNT'] = \\\n",
    "    transaction.groupby('MO_ID', as_index=False)['MO_ID'].transform(lambda s: s.count())"
   ]
  },
  {
   "cell_type": "code",
   "execution_count": 4,
   "id": "eafd9848",
   "metadata": {},
   "outputs": [],
   "source": [
    "def month_to_season(month):\n",
    "    if month in [1, 2, 12]:\n",
    "        return('winter')\n",
    "    elif month in [3, 4, 5]:\n",
    "        return('spring')\n",
    "    elif month in [6, 7, 8]:\n",
    "        return('summer')\n",
    "    elif month in [9, 10, 11]:\n",
    "        return('fall')"
   ]
  },
  {
   "cell_type": "markdown",
   "id": "4a72f709",
   "metadata": {},
   "source": [
    "## Data Cleaning"
   ]
  },
  {
   "cell_type": "code",
   "execution_count": 5,
   "id": "73c8d768",
   "metadata": {},
   "outputs": [
    {
     "name": "stderr",
     "output_type": "stream",
     "text": [
      "/Users/duc/opt/anaconda3/envs/ml/lib/python3.9/site-packages/pandas/core/series.py:2393: RuntimeWarning: overflow encountered in multiply\n",
      "  result = self._values.round(decimals)\n"
     ]
    }
   ],
   "source": [
    "# data cleansing\n",
    "customers['CREATION_YEAR']=customers['CREATION_YEAR'].map(lambda year: int(str(year)[-4:]))\n",
    "customers['REV_CURRENT_YEAR']=customers['REV_CURRENT_YEAR'].map(lambda rev: np.nan \\\n",
    "                if rev=='\"Yes\"' or rev=='\"No\"'else float(rev[1:-1])).astype('float')\n",
    "mean_REV_CURRENT_YEAR= np.nanmean(customers['REV_CURRENT_YEAR'])\n",
    "mean_REV_CURRENT_YEAR_1= np.nanmean(customers['REV_CURRENT_YEAR.1'])\n",
    "mean_REV_CURRENT_YEAR_2= np.nanmean(customers['REV_CURRENT_YEAR.2'])\n",
    "\n",
    "customers['COUNTRY']=customers['COUNTRY'].astype('string')\n",
    "\n",
    "\n",
    "transaction['CUSTOMER'] = transaction['CUSTOMER'].\\\n",
    "                            map(lambda customer: 9000 if (customer =='\"NA\"' or customer=='\"#NV\"') \\\n",
    "                                                      else (-1 if customer=='\"NA\"' else int(customer[1:-1]))).astype('int')\n",
    "\n",
    "\n",
    "\n",
    "train=pd.merge(transaction, geo, \n",
    "                   on='SALES_LOCATION', \n",
    "                   how='left')\n",
    "train['COUNTRY']=train['COUNTRY'].map(lambda country: 'Switzerland' if country=='CH'else 'France').astype('string')\n",
    "train=pd.merge(train, customers, \n",
    "                   on=['CUSTOMER','COUNTRY'], \n",
    "                   how='left')\n",
    "train=train.drop(columns=['MO_ID', 'SO_ID','END_CUSTOMER'])\n",
    "# product_names = ['COSTS_PRODUCT_A','COSTS_PRODUCT_B','COSTS_PRODUCT_C','COSTS_PRODUCT_D','COSTS_PRODUCT_E']\n",
    "# train['COST_PRODUCT']=train[product_names].sum(axis=1)\n",
    "\n",
    "# time\n",
    "train['MO_CREATED_DATE']=pd.to_datetime(train['MO_CREATED_DATE'])\n",
    "train['MONTH']=train['MO_CREATED_DATE'].map(lambda time: time.month)\n",
    "train['SEASON']=train['MONTH'].map(month_to_season).astype('category')\n",
    "train=train.drop(columns=['MONTH'])\n",
    "train['YEAR']=train['MO_CREATED_DATE'].map(lambda time: time.year)\n",
    "train['CREATION_YEAR']=np.nan_to_num(train['CREATION_YEAR'],nan=2007)\n",
    "train=train.drop(columns=['MO_CREATED_DATE','SO_CREATED_DATE'])\n",
    "\n",
    "#nan solving\n",
    "train['REV_CURRENT_YEAR'].replace(0,mean_REV_CURRENT_YEAR)\n",
    "train['REV_CURRENT_YEAR.1'].replace(0,mean_REV_CURRENT_YEAR_1)\n",
    "train['REV_CURRENT_YEAR.2'].replace(0,mean_REV_CURRENT_YEAR_2)\n",
    "train['OWNERSHIP'].fillna('No information')\n",
    "train['REV_CURRENT_YEAR']=np.nan_to_num(train['REV_CURRENT_YEAR'],nan=mean_REV_CURRENT_YEAR)\n",
    "train['REV_CURRENT_YEAR.1']=np.nan_to_num(train['REV_CURRENT_YEAR.1'],nan=mean_REV_CURRENT_YEAR_1)\n",
    "train['REV_CURRENT_YEAR.2']=np.nan_to_num(train['REV_CURRENT_YEAR.2'],nan=mean_REV_CURRENT_YEAR_2)\n",
    "train['ISIC']=np.nan_to_num(train['ISIC'],nan=np.nanmean(train['ISIC']))\n",
    "train['REV_CURRENT_YEAR'].replace(0,mean_REV_CURRENT_YEAR)\n",
    "\n",
    "#caterical\n",
    "train['TECH']=train['TECH'].astype('category')\n",
    "train['PRICE_LIST']=train['PRICE_LIST'].astype('category')\n",
    "train['OFFER_TYPE']=train['OFFER_TYPE'].astype('category')\n",
    "train['BUSINESS_TYPE']=train['BUSINESS_TYPE'].astype('category')\n",
    "train['OWNERSHIP']=train['OWNERSHIP'].astype('category')\n",
    "train['OWNERSHIP']=np.nan_to_num(train['OWNERSHIP'],nan=4)\n",
    "train['COUNTRY']=train['COUNTRY'].astype('category')\n",
    "train['CURRENCY']=train['CURRENCY'].astype('category')\n",
    "train['SALES_LOCATION']=train['SALES_LOCATION'].astype('category')\n",
    "train['SALES_LOCATION']=np.nan_to_num(train['SALES_LOCATION'],nan=44)\n",
    "train[\"YEAR\"]=train['YEAR'].astype('int')\n",
    "train['CREATION_YEAR'].replace(np.nan, 'NaN', regex=True)\n",
    "train['SALES_BRANCH']=train['SALES_BRANCH'].astype('category')\n",
    "train['MO_ID_COUNT']=train['MO_ID_COUNT'].astype('category')\n",
    "\n",
    "\n",
    "#new feature\n",
    "train['AGE']=train['CREATION_YEAR']-train['YEAR']\n",
    "train['TOTAL_COST']=train['SERVICE_COST']+train['MATERIAL_COST']\n",
    "train['INTEREST_RATE']=train['OFFER_PRICE']/ train['TOTAL_COST']\n",
    "train['INTEREST']=train['OFFER_PRICE'] - train['TOTAL_COST']\n",
    "train['GROWTH']=train['REV_CURRENT_YEAR']-train['REV_CURRENT_YEAR.2']\n",
    "train['GROWTH_RATE']=train['REV_CURRENT_YEAR']/train['REV_CURRENT_YEAR.2']\n",
    "train['GROWTH_RATE']=np.nan_to_num(train['GROWTH_RATE'],nan=10)\n",
    "train['GROWTH_RATE']=round(train['GROWTH_RATE'],4)\n",
    "train.loc[train['GROWTH_RATE']>10, 'GROWTH_RATE'] = 10\n",
    "train.loc[train['GROWTH_RATE']<-10, 'GROWTH_RATE'] = -10\n",
    "train['TRANSITION_SIZE']=train['OFFER_PRICE'] / train['REV_CURRENT_YEAR']\n",
    "train['TRANSITION_SIZE']=round(train['TRANSITION_SIZE'],4)\n",
    "train.loc[train['TRANSITION_SIZE']>10, 'TRANSITION_SIZE'] = 10\n",
    "train.loc[train['TRANSITION_SIZE']<-10, 'TRANSITION_SIZE'] = -10\n",
    "train['COST_SIZE']=train['TOTAL_COST'] / train['REV_CURRENT_YEAR']\n",
    "train['COST_SIZE']=round(train['COST_SIZE'],4)\n",
    "train.loc[train['COST_SIZE']>10, 'COST_SIZE'] = 10\n",
    "train.loc[train['COST_SIZE']<-10, 'COST_SIZE'] = -10\n",
    "train['DISCOUNT']=train['SERVICE_LIST_PRICE']-train['SERVICE_COST']\n",
    "train['DISCOUNT_RATE']=train['SERVICE_LIST_PRICE']/train['SERVICE_COST']\n",
    "train['DISCOUNT_RATE']=np.nan_to_num(train['DISCOUNT_RATE'],nan=10)\n",
    "train.loc[train['DISCOUNT_RATE']>10, 'DISCOUNT_RATE'] = 10\n",
    "train['COST_STRUCTURE']=train['SERVICE_COST']/train['TOTAL_COST']\n",
    "\n",
    "#numeric\n",
    "train[[\"TECH\"]] =  OrdinalEncoder().fit_transform(train[[\"TECH\"]])\n",
    "train[[\"BUSINESS_TYPE\"]] =  OrdinalEncoder().fit_transform(train[[\"BUSINESS_TYPE\"]])\n",
    "train[[\"SALES_LOCATION\"]] =  OrdinalEncoder().fit_transform(train[[\"SALES_LOCATION\"]])\n",
    "train[[\"PRICE_LIST\"]] =  OrdinalEncoder().fit_transform(train[[\"PRICE_LIST\"]])\n",
    "train[[\"OWNERSHIP\"]] =  OrdinalEncoder().fit_transform(train[[\"OWNERSHIP\"]])\n",
    "train[[\"YEAR\"]] =  OrdinalEncoder().fit_transform(train[[\"YEAR\"]])\n",
    "train[[\"SEASON\"]] =  OrdinalEncoder().fit_transform(train[[\"SEASON\"]])\n",
    "train[[\"SALES_BRANCH\"]] =  OrdinalEncoder().fit_transform(train[[\"SALES_BRANCH\"]])\n",
    "train['SALES_BRANCH']=np.nan_to_num(train['SALES_BRANCH'],nan=13)\n",
    "train[[\"MO_ID_COUNT\"]] =  OrdinalEncoder().fit_transform(train[[\"MO_ID_COUNT\"]])\n",
    "\n",
    "\n",
    "#taking training set out \n",
    "test_set=train[train['OFFER_STATUS'].isna()]\n",
    "train=train.drop(columns=['TEST_SET_ID'])\n",
    "train.dropna(subset = ['OFFER_STATUS'], inplace=True)\n",
    "\n",
    "train['OFFER_STATUS']=train['OFFER_STATUS'].map(lambda status: str(status).lower())\n",
    "train['OFFER_STATUS']=train['OFFER_STATUS'].\\\n",
    "                        map(lambda status: 1 if (status==\"won\" or status ==\"win\") else 0)\\\n",
    "                        .astype('int')\n",
    "\n"
   ]
  },
  {
   "cell_type": "code",
   "execution_count": 6,
   "id": "9b8a3cd4",
   "metadata": {},
   "outputs": [],
   "source": [
    "#normalize\n",
    "# train['OFFER_PRICE']=(train['OFFER_PRICE']-train['OFFER_PRICE'].mean())/train['OFFER_PRICE'].std()\n",
    "# train['MATERIAL_COST']=(train['MATERIAL_COST']-train['MATERIAL_COST'].mean())/train['MATERIAL_COST'].std()\n",
    "# train['SERVICE_COST']=(train['SERVICE_COST']-train['SERVICE_COST'].mean())/train['SERVICE_COST'].std()\n",
    "# # train['COST_PRODUCT']=(train['COST_PRODUCT']-train['COST_PRODUCT'].mean())/train['COST_PRODUCT'].std()\n",
    "# train['ISIC']=(train['ISIC']-train['ISIC'].mean())/train['ISIC'].std()\n",
    "#oversampling"
   ]
  },
  {
   "cell_type": "code",
   "execution_count": 7,
   "id": "597fc8a2",
   "metadata": {
    "scrolled": true
   },
   "outputs": [
    {
     "data": {
      "text/html": [
       "<div>\n",
       "<style scoped>\n",
       "    .dataframe tbody tr th:only-of-type {\n",
       "        vertical-align: middle;\n",
       "    }\n",
       "\n",
       "    .dataframe tbody tr th {\n",
       "        vertical-align: top;\n",
       "    }\n",
       "\n",
       "    .dataframe thead th {\n",
       "        text-align: right;\n",
       "    }\n",
       "</style>\n",
       "<table border=\"1\" class=\"dataframe\">\n",
       "  <thead>\n",
       "    <tr style=\"text-align: right;\">\n",
       "      <th></th>\n",
       "      <th>CUSTOMER</th>\n",
       "      <th>OFFER_PRICE</th>\n",
       "      <th>SERVICE_LIST_PRICE</th>\n",
       "      <th>MATERIAL_COST</th>\n",
       "      <th>SERVICE_COST</th>\n",
       "      <th>PRICE_LIST</th>\n",
       "      <th>ISIC</th>\n",
       "      <th>TECH</th>\n",
       "      <th>OFFER_TYPE</th>\n",
       "      <th>BUSINESS_TYPE</th>\n",
       "      <th>...</th>\n",
       "      <th>TOTAL_COST</th>\n",
       "      <th>INTEREST_RATE</th>\n",
       "      <th>INTEREST</th>\n",
       "      <th>GROWTH</th>\n",
       "      <th>GROWTH_RATE</th>\n",
       "      <th>TRANSITION_SIZE</th>\n",
       "      <th>COST_SIZE</th>\n",
       "      <th>DISCOUNT</th>\n",
       "      <th>DISCOUNT_RATE</th>\n",
       "      <th>COST_STRUCTURE</th>\n",
       "    </tr>\n",
       "  </thead>\n",
       "  <tbody>\n",
       "  </tbody>\n",
       "</table>\n",
       "<p>0 rows × 40 columns</p>\n",
       "</div>"
      ],
      "text/plain": [
       "Empty DataFrame\n",
       "Columns: [CUSTOMER, OFFER_PRICE, SERVICE_LIST_PRICE, MATERIAL_COST, SERVICE_COST, PRICE_LIST, ISIC, TECH, OFFER_TYPE, BUSINESS_TYPE, COSTS_PRODUCT_A, COSTS_PRODUCT_B, COSTS_PRODUCT_C, OFFER_STATUS, COSTS_PRODUCT_D, COSTS_PRODUCT_E, SALES_LOCATION, MO_ID_COUNT, COUNTRY, SALES_OFFICE, SALES_BRANCH, REV_CURRENT_YEAR, REV_CURRENT_YEAR.1, REV_CURRENT_YEAR.2, CREATION_YEAR, OWNERSHIP, CURRENCY, SEASON, YEAR, AGE, TOTAL_COST, INTEREST_RATE, INTEREST, GROWTH, GROWTH_RATE, TRANSITION_SIZE, COST_SIZE, DISCOUNT, DISCOUNT_RATE, COST_STRUCTURE]\n",
       "Index: []\n",
       "\n",
       "[0 rows x 40 columns]"
      ]
     },
     "execution_count": 7,
     "metadata": {},
     "output_type": "execute_result"
    }
   ],
   "source": [
    "train[train['COST_STRUCTURE'].isna()]"
   ]
  },
  {
   "cell_type": "markdown",
   "id": "9c9f337e",
   "metadata": {},
   "source": [
    "# Create test_set"
   ]
  },
  {
   "cell_type": "code",
   "execution_count": 8,
   "id": "b715cc29",
   "metadata": {},
   "outputs": [
    {
     "data": {
      "text/html": [
       "<div>\n",
       "<style scoped>\n",
       "    .dataframe tbody tr th:only-of-type {\n",
       "        vertical-align: middle;\n",
       "    }\n",
       "\n",
       "    .dataframe tbody tr th {\n",
       "        vertical-align: top;\n",
       "    }\n",
       "\n",
       "    .dataframe thead th {\n",
       "        text-align: right;\n",
       "    }\n",
       "</style>\n",
       "<table border=\"1\" class=\"dataframe\">\n",
       "  <thead>\n",
       "    <tr style=\"text-align: right;\">\n",
       "      <th></th>\n",
       "      <th>id</th>\n",
       "      <th>prediction</th>\n",
       "      <th>CUSTOMER</th>\n",
       "      <th>OFFER_PRICE</th>\n",
       "      <th>SERVICE_LIST_PRICE</th>\n",
       "      <th>MATERIAL_COST</th>\n",
       "      <th>SERVICE_COST</th>\n",
       "      <th>PRICE_LIST</th>\n",
       "      <th>ISIC</th>\n",
       "      <th>TECH</th>\n",
       "      <th>...</th>\n",
       "      <th>TOTAL_COST</th>\n",
       "      <th>INTEREST_RATE</th>\n",
       "      <th>INTEREST</th>\n",
       "      <th>GROWTH</th>\n",
       "      <th>GROWTH_RATE</th>\n",
       "      <th>TRANSITION_SIZE</th>\n",
       "      <th>COST_SIZE</th>\n",
       "      <th>DISCOUNT</th>\n",
       "      <th>DISCOUNT_RATE</th>\n",
       "      <th>COST_STRUCTURE</th>\n",
       "    </tr>\n",
       "  </thead>\n",
       "  <tbody>\n",
       "    <tr>\n",
       "      <th>0</th>\n",
       "      <td>6</td>\n",
       "      <td>NaN</td>\n",
       "      <td>6</td>\n",
       "      <td>23403.95</td>\n",
       "      <td>5932.00</td>\n",
       "      <td>4674.0</td>\n",
       "      <td>15186.39</td>\n",
       "      <td>2.0</td>\n",
       "      <td>6419.0</td>\n",
       "      <td>4.0</td>\n",
       "      <td>...</td>\n",
       "      <td>19860.39</td>\n",
       "      <td>1.178423</td>\n",
       "      <td>3543.56</td>\n",
       "      <td>-218613.069767</td>\n",
       "      <td>0.7032</td>\n",
       "      <td>0.0452</td>\n",
       "      <td>0.0383</td>\n",
       "      <td>-9254.39</td>\n",
       "      <td>0.390613</td>\n",
       "      <td>0.764657</td>\n",
       "    </tr>\n",
       "    <tr>\n",
       "      <th>1</th>\n",
       "      <td>9</td>\n",
       "      <td>NaN</td>\n",
       "      <td>9</td>\n",
       "      <td>52883.55</td>\n",
       "      <td>12075.00</td>\n",
       "      <td>7650.0</td>\n",
       "      <td>22680.97</td>\n",
       "      <td>1.0</td>\n",
       "      <td>8110.0</td>\n",
       "      <td>1.0</td>\n",
       "      <td>...</td>\n",
       "      <td>30330.97</td>\n",
       "      <td>1.743550</td>\n",
       "      <td>22552.58</td>\n",
       "      <td>785194.341880</td>\n",
       "      <td>1.1871</td>\n",
       "      <td>0.0106</td>\n",
       "      <td>0.0061</td>\n",
       "      <td>-10605.97</td>\n",
       "      <td>0.532385</td>\n",
       "      <td>0.747783</td>\n",
       "    </tr>\n",
       "    <tr>\n",
       "      <th>2</th>\n",
       "      <td>14</td>\n",
       "      <td>NaN</td>\n",
       "      <td>14</td>\n",
       "      <td>6704.00</td>\n",
       "      <td>3275.00</td>\n",
       "      <td>2706.0</td>\n",
       "      <td>2328.72</td>\n",
       "      <td>2.0</td>\n",
       "      <td>6419.0</td>\n",
       "      <td>6.0</td>\n",
       "      <td>...</td>\n",
       "      <td>5034.72</td>\n",
       "      <td>1.331554</td>\n",
       "      <td>1669.28</td>\n",
       "      <td>291804.569767</td>\n",
       "      <td>1.4949</td>\n",
       "      <td>0.0076</td>\n",
       "      <td>0.0057</td>\n",
       "      <td>946.28</td>\n",
       "      <td>1.406352</td>\n",
       "      <td>0.462532</td>\n",
       "    </tr>\n",
       "    <tr>\n",
       "      <th>3</th>\n",
       "      <td>35</td>\n",
       "      <td>NaN</td>\n",
       "      <td>14</td>\n",
       "      <td>13704.00</td>\n",
       "      <td>7217.00</td>\n",
       "      <td>5721.0</td>\n",
       "      <td>3998.14</td>\n",
       "      <td>2.0</td>\n",
       "      <td>6419.0</td>\n",
       "      <td>6.0</td>\n",
       "      <td>...</td>\n",
       "      <td>9719.14</td>\n",
       "      <td>1.410001</td>\n",
       "      <td>3984.86</td>\n",
       "      <td>291804.569767</td>\n",
       "      <td>1.4949</td>\n",
       "      <td>0.0155</td>\n",
       "      <td>0.0110</td>\n",
       "      <td>3218.86</td>\n",
       "      <td>1.805089</td>\n",
       "      <td>0.411368</td>\n",
       "    </tr>\n",
       "    <tr>\n",
       "      <th>4</th>\n",
       "      <td>36</td>\n",
       "      <td>NaN</td>\n",
       "      <td>34</td>\n",
       "      <td>1976.95</td>\n",
       "      <td>1475.00</td>\n",
       "      <td>1230.0</td>\n",
       "      <td>11.28</td>\n",
       "      <td>2.0</td>\n",
       "      <td>4690.0</td>\n",
       "      <td>6.0</td>\n",
       "      <td>...</td>\n",
       "      <td>1241.28</td>\n",
       "      <td>1.592670</td>\n",
       "      <td>735.67</td>\n",
       "      <td>-11500.060000</td>\n",
       "      <td>0.7069</td>\n",
       "      <td>0.0713</td>\n",
       "      <td>0.0448</td>\n",
       "      <td>1463.72</td>\n",
       "      <td>10.000000</td>\n",
       "      <td>0.009087</td>\n",
       "    </tr>\n",
       "    <tr>\n",
       "      <th>...</th>\n",
       "      <td>...</td>\n",
       "      <td>...</td>\n",
       "      <td>...</td>\n",
       "      <td>...</td>\n",
       "      <td>...</td>\n",
       "      <td>...</td>\n",
       "      <td>...</td>\n",
       "      <td>...</td>\n",
       "      <td>...</td>\n",
       "      <td>...</td>\n",
       "      <td>...</td>\n",
       "      <td>...</td>\n",
       "      <td>...</td>\n",
       "      <td>...</td>\n",
       "      <td>...</td>\n",
       "      <td>...</td>\n",
       "      <td>...</td>\n",
       "      <td>...</td>\n",
       "      <td>...</td>\n",
       "      <td>...</td>\n",
       "      <td>...</td>\n",
       "    </tr>\n",
       "    <tr>\n",
       "      <th>2571</th>\n",
       "      <td>26019</td>\n",
       "      <td>NaN</td>\n",
       "      <td>888</td>\n",
       "      <td>12846.35</td>\n",
       "      <td>10691.00</td>\n",
       "      <td>7568.8</td>\n",
       "      <td>1680.57</td>\n",
       "      <td>3.0</td>\n",
       "      <td>2100.0</td>\n",
       "      <td>4.0</td>\n",
       "      <td>...</td>\n",
       "      <td>9249.37</td>\n",
       "      <td>1.388889</td>\n",
       "      <td>3596.98</td>\n",
       "      <td>-32752.220930</td>\n",
       "      <td>0.3605</td>\n",
       "      <td>0.6958</td>\n",
       "      <td>0.5010</td>\n",
       "      <td>9010.43</td>\n",
       "      <td>6.361532</td>\n",
       "      <td>0.181696</td>\n",
       "    </tr>\n",
       "    <tr>\n",
       "      <th>2572</th>\n",
       "      <td>26033</td>\n",
       "      <td>NaN</td>\n",
       "      <td>1358</td>\n",
       "      <td>8250.00</td>\n",
       "      <td>1880.00</td>\n",
       "      <td>1399.2</td>\n",
       "      <td>5161.30</td>\n",
       "      <td>3.0</td>\n",
       "      <td>4321.0</td>\n",
       "      <td>4.0</td>\n",
       "      <td>...</td>\n",
       "      <td>6560.50</td>\n",
       "      <td>1.257526</td>\n",
       "      <td>1689.50</td>\n",
       "      <td>0.000000</td>\n",
       "      <td>10.0000</td>\n",
       "      <td>10.0000</td>\n",
       "      <td>10.0000</td>\n",
       "      <td>-3281.30</td>\n",
       "      <td>0.364249</td>\n",
       "      <td>0.786724</td>\n",
       "    </tr>\n",
       "    <tr>\n",
       "      <th>2573</th>\n",
       "      <td>26050</td>\n",
       "      <td>NaN</td>\n",
       "      <td>2210</td>\n",
       "      <td>4703.29</td>\n",
       "      <td>4460.14</td>\n",
       "      <td>2948.1</td>\n",
       "      <td>250.14</td>\n",
       "      <td>3.0</td>\n",
       "      <td>2100.0</td>\n",
       "      <td>4.0</td>\n",
       "      <td>...</td>\n",
       "      <td>3198.24</td>\n",
       "      <td>1.470587</td>\n",
       "      <td>1505.05</td>\n",
       "      <td>-78662.210000</td>\n",
       "      <td>0.3593</td>\n",
       "      <td>0.1066</td>\n",
       "      <td>0.0725</td>\n",
       "      <td>4210.00</td>\n",
       "      <td>10.000000</td>\n",
       "      <td>0.078212</td>\n",
       "    </tr>\n",
       "    <tr>\n",
       "      <th>2574</th>\n",
       "      <td>26058</td>\n",
       "      <td>NaN</td>\n",
       "      <td>1150</td>\n",
       "      <td>50896.50</td>\n",
       "      <td>31860.00</td>\n",
       "      <td>20800.2</td>\n",
       "      <td>13589.25</td>\n",
       "      <td>3.0</td>\n",
       "      <td>4321.0</td>\n",
       "      <td>4.0</td>\n",
       "      <td>...</td>\n",
       "      <td>34389.45</td>\n",
       "      <td>1.480003</td>\n",
       "      <td>16507.05</td>\n",
       "      <td>9866.120000</td>\n",
       "      <td>1.2117</td>\n",
       "      <td>0.9013</td>\n",
       "      <td>0.6090</td>\n",
       "      <td>18270.75</td>\n",
       "      <td>2.344500</td>\n",
       "      <td>0.395158</td>\n",
       "    </tr>\n",
       "    <tr>\n",
       "      <th>2575</th>\n",
       "      <td>26086</td>\n",
       "      <td>NaN</td>\n",
       "      <td>407</td>\n",
       "      <td>12070.00</td>\n",
       "      <td>3396.00</td>\n",
       "      <td>2083.1</td>\n",
       "      <td>8719.05</td>\n",
       "      <td>3.0</td>\n",
       "      <td>4321.0</td>\n",
       "      <td>4.0</td>\n",
       "      <td>...</td>\n",
       "      <td>10802.15</td>\n",
       "      <td>1.117370</td>\n",
       "      <td>1267.85</td>\n",
       "      <td>561.310000</td>\n",
       "      <td>1.1055</td>\n",
       "      <td>2.0521</td>\n",
       "      <td>1.8365</td>\n",
       "      <td>-5323.05</td>\n",
       "      <td>0.389492</td>\n",
       "      <td>0.807159</td>\n",
       "    </tr>\n",
       "  </tbody>\n",
       "</table>\n",
       "<p>2576 rows × 43 columns</p>\n",
       "</div>"
      ],
      "text/plain": [
       "         id  prediction  CUSTOMER  OFFER_PRICE  SERVICE_LIST_PRICE  \\\n",
       "0         6         NaN         6     23403.95             5932.00   \n",
       "1         9         NaN         9     52883.55            12075.00   \n",
       "2        14         NaN        14      6704.00             3275.00   \n",
       "3        35         NaN        14     13704.00             7217.00   \n",
       "4        36         NaN        34      1976.95             1475.00   \n",
       "...     ...         ...       ...          ...                 ...   \n",
       "2571  26019         NaN       888     12846.35            10691.00   \n",
       "2572  26033         NaN      1358      8250.00             1880.00   \n",
       "2573  26050         NaN      2210      4703.29             4460.14   \n",
       "2574  26058         NaN      1150     50896.50            31860.00   \n",
       "2575  26086         NaN       407     12070.00             3396.00   \n",
       "\n",
       "      MATERIAL_COST  SERVICE_COST  PRICE_LIST    ISIC  TECH  ... TOTAL_COST  \\\n",
       "0            4674.0      15186.39         2.0  6419.0   4.0  ...   19860.39   \n",
       "1            7650.0      22680.97         1.0  8110.0   1.0  ...   30330.97   \n",
       "2            2706.0       2328.72         2.0  6419.0   6.0  ...    5034.72   \n",
       "3            5721.0       3998.14         2.0  6419.0   6.0  ...    9719.14   \n",
       "4            1230.0         11.28         2.0  4690.0   6.0  ...    1241.28   \n",
       "...             ...           ...         ...     ...   ...  ...        ...   \n",
       "2571         7568.8       1680.57         3.0  2100.0   4.0  ...    9249.37   \n",
       "2572         1399.2       5161.30         3.0  4321.0   4.0  ...    6560.50   \n",
       "2573         2948.1        250.14         3.0  2100.0   4.0  ...    3198.24   \n",
       "2574        20800.2      13589.25         3.0  4321.0   4.0  ...   34389.45   \n",
       "2575         2083.1       8719.05         3.0  4321.0   4.0  ...   10802.15   \n",
       "\n",
       "      INTEREST_RATE  INTEREST         GROWTH  GROWTH_RATE TRANSITION_SIZE  \\\n",
       "0          1.178423   3543.56 -218613.069767       0.7032          0.0452   \n",
       "1          1.743550  22552.58  785194.341880       1.1871          0.0106   \n",
       "2          1.331554   1669.28  291804.569767       1.4949          0.0076   \n",
       "3          1.410001   3984.86  291804.569767       1.4949          0.0155   \n",
       "4          1.592670    735.67  -11500.060000       0.7069          0.0713   \n",
       "...             ...       ...            ...          ...             ...   \n",
       "2571       1.388889   3596.98  -32752.220930       0.3605          0.6958   \n",
       "2572       1.257526   1689.50       0.000000      10.0000         10.0000   \n",
       "2573       1.470587   1505.05  -78662.210000       0.3593          0.1066   \n",
       "2574       1.480003  16507.05    9866.120000       1.2117          0.9013   \n",
       "2575       1.117370   1267.85     561.310000       1.1055          2.0521   \n",
       "\n",
       "      COST_SIZE  DISCOUNT  DISCOUNT_RATE  COST_STRUCTURE  \n",
       "0        0.0383  -9254.39       0.390613        0.764657  \n",
       "1        0.0061 -10605.97       0.532385        0.747783  \n",
       "2        0.0057    946.28       1.406352        0.462532  \n",
       "3        0.0110   3218.86       1.805089        0.411368  \n",
       "4        0.0448   1463.72      10.000000        0.009087  \n",
       "...         ...       ...            ...             ...  \n",
       "2571     0.5010   9010.43       6.361532        0.181696  \n",
       "2572    10.0000  -3281.30       0.364249        0.786724  \n",
       "2573     0.0725   4210.00      10.000000        0.078212  \n",
       "2574     0.6090  18270.75       2.344500        0.395158  \n",
       "2575     1.8365  -5323.05       0.389492        0.807159  \n",
       "\n",
       "[2576 rows x 43 columns]"
      ]
     },
     "execution_count": 8,
     "metadata": {},
     "output_type": "execute_result"
    }
   ],
   "source": [
    "test_set['TEST_SET_ID'].astype('int')\n",
    "test_transaction_result=pd.merge(test_result,test_set, how='left',left_on='id',right_on='TEST_SET_ID')\n",
    "test_transaction_result"
   ]
  },
  {
   "cell_type": "markdown",
   "id": "654dfd8f",
   "metadata": {},
   "source": [
    "# Evaluate useful variable"
   ]
  },
  {
   "cell_type": "code",
   "execution_count": 9,
   "id": "67eadd72",
   "metadata": {},
   "outputs": [],
   "source": [
    "def percent_success(factor:str):    \n",
    "    success=train[train['OFFER_STATUS']==1][factor].value_counts()\n",
    "    total=train[factor].value_counts()\n",
    "    percent=success/total\n",
    "    return percent"
   ]
  },
  {
   "cell_type": "code",
   "execution_count": 10,
   "id": "c0cf321d",
   "metadata": {},
   "outputs": [],
   "source": [
    "# # test variance between factors\n",
    "# percent_success('TECH')# big variance\n",
    "# percent_success('PRICE_LIST')# same for all values\n",
    "# percent_success('OFFER_TYPE')# same for all values\n",
    "# percent_success('BUSINESS_TYPE')# same for all values\n",
    "# percent_success('OWNERSHIP')# same for all values\n",
    "# percent_success('COUNTRY')# same for all values\n",
    "# percent_success('CURRENCY')# same for all values\n",
    "# percent_success('SEASON')# same for all values\n",
    "# percent_success('SALES_LOCATION')# same for all values except Zürich EPS\n",
    "# # percent_success('SEASON')# same for all values\n",
    "# percent_success('SALES_BRANCH')\n",
    "# percent_success('SALES_OFFICE')\n"
   ]
  },
  {
   "cell_type": "code",
   "execution_count": 11,
   "id": "456d23dd",
   "metadata": {},
   "outputs": [],
   "source": [
    "# fig, axes = plt.subplots(1,3)\n",
    "# fig.set_figwidth(25)\n",
    "# fig.set_figheight(8)\n",
    "# check_cols = [\"OFFER_PRICE\",\"SERVICE_COST\",\"SERVICE_LIST_PRICE\"]\n",
    "# sns.set_style(\"dark\")\n",
    "# for i in range(len(check_cols)):\n",
    "    \n",
    "#     sns.kdeplot(data=train.loc[train[\"OFFER_STATUS\"] == 1, check_cols[i]],\n",
    "#                   ax=axes[i],\n",
    "#                   label=\"WIN OFFER\",\n",
    "#                   color='blue',\n",
    "#                   shade=True)\n",
    "\n",
    "#     sns.kdeplot(data=train.loc[train[\"OFFER_STATUS\"] == 0, check_cols[i]],\n",
    "#                   ax=axes[i],\n",
    "#                   label=\"FAIL OFFER\",\n",
    "#                   color='red',\n",
    "#                   shade=True)\n",
    "\n",
    "#     # plot vertical lines\n",
    "#     axes[i].axvline(train.loc[train[\"OFFER_STATUS\"] == 1, check_cols[i]].median(),\n",
    "#                    color='blue')\n",
    "\n",
    "#     axes[i].axvline(train.loc[train[\"OFFER_STATUS\"] == 0, check_cols[i]].median(),\n",
    "#                    color='red')\n",
    "    \n",
    "#     # plot annotations of values corresponding to the vertical lines\n",
    "#     axes[i].annotate(\"Median {} Win Offer: {}\".format(check_cols[i],\n",
    "#                                                         train.loc[train[\"OFFER_STATUS\"] == 1, check_cols[i]].median()),\n",
    "#                                                         xy=(0.45, 0.95),\n",
    "#                                                         xycoords='axes fraction',\n",
    "#                                                         fontsize=15)\n",
    "    \n",
    "#     axes[i].annotate(\"Median {} Fail offer: {}\".format(check_cols[i],\n",
    "#                                                          train.loc[train[\"OFFER_STATUS\"] == 0, check_cols[i]].median()),\n",
    "#                                                          xy=(0.45, 0.90),\n",
    "#                                                          xycoords='axes fraction',\n",
    "#                                                          fontsize=15)\n",
    "    \n",
    "#     axes[i].title.set_text(\"{} and OFFER_STATUS\".format(check_cols[i]))\n",
    "#     axes[i].legend()\n",
    "# plt.show()\n",
    "# plt.close()"
   ]
  },
  {
   "cell_type": "code",
   "execution_count": 12,
   "id": "8ce5f9be",
   "metadata": {},
   "outputs": [
    {
     "name": "stdout",
     "output_type": "stream",
     "text": [
      "<class 'pandas.core.frame.DataFrame'>\n",
      "Int64Index: 23575 entries, 0 to 26150\n",
      "Data columns (total 40 columns):\n",
      " #   Column              Non-Null Count  Dtype   \n",
      "---  ------              --------------  -----   \n",
      " 0   CUSTOMER            23575 non-null  int64   \n",
      " 1   OFFER_PRICE         23575 non-null  float64 \n",
      " 2   SERVICE_LIST_PRICE  23575 non-null  float64 \n",
      " 3   MATERIAL_COST       23575 non-null  float64 \n",
      " 4   SERVICE_COST        23575 non-null  float64 \n",
      " 5   PRICE_LIST          23575 non-null  float64 \n",
      " 6   ISIC                23575 non-null  float64 \n",
      " 7   TECH                23575 non-null  float64 \n",
      " 8   OFFER_TYPE          23575 non-null  category\n",
      " 9   BUSINESS_TYPE       23575 non-null  float64 \n",
      " 10  COSTS_PRODUCT_A     23575 non-null  float64 \n",
      " 11  COSTS_PRODUCT_B     23575 non-null  float64 \n",
      " 12  COSTS_PRODUCT_C     23575 non-null  float64 \n",
      " 13  OFFER_STATUS        23575 non-null  int64   \n",
      " 14  COSTS_PRODUCT_D     23575 non-null  float64 \n",
      " 15  COSTS_PRODUCT_E     23575 non-null  float64 \n",
      " 16  SALES_LOCATION      23540 non-null  float64 \n",
      " 17  MO_ID_COUNT         23575 non-null  float64 \n",
      " 18  COUNTRY             23575 non-null  category\n",
      " 19  SALES_OFFICE        23539 non-null  object  \n",
      " 20  SALES_BRANCH        23575 non-null  float64 \n",
      " 21  REV_CURRENT_YEAR    23575 non-null  float64 \n",
      " 22  REV_CURRENT_YEAR.1  23575 non-null  float64 \n",
      " 23  REV_CURRENT_YEAR.2  23575 non-null  float64 \n",
      " 24  CREATION_YEAR       23575 non-null  float64 \n",
      " 25  OWNERSHIP           20768 non-null  float64 \n",
      " 26  CURRENCY            20768 non-null  category\n",
      " 27  SEASON              23575 non-null  float64 \n",
      " 28  YEAR                23575 non-null  float64 \n",
      " 29  AGE                 23575 non-null  float64 \n",
      " 30  TOTAL_COST          23575 non-null  float64 \n",
      " 31  INTEREST_RATE       23575 non-null  float64 \n",
      " 32  INTEREST            23575 non-null  float64 \n",
      " 33  GROWTH              23575 non-null  float64 \n",
      " 34  GROWTH_RATE         23575 non-null  float64 \n",
      " 35  TRANSITION_SIZE     23575 non-null  float64 \n",
      " 36  COST_SIZE           23575 non-null  float64 \n",
      " 37  DISCOUNT            23575 non-null  float64 \n",
      " 38  DISCOUNT_RATE       23575 non-null  float64 \n",
      " 39  COST_STRUCTURE      23575 non-null  float64 \n",
      "dtypes: category(3), float64(34), int64(2), object(1)\n",
      "memory usage: 6.9+ MB\n"
     ]
    }
   ],
   "source": [
    "train.info()"
   ]
  },
  {
   "cell_type": "markdown",
   "id": "75dfdc20",
   "metadata": {},
   "source": [
    "# Feature "
   ]
  },
  {
   "cell_type": "code",
   "execution_count": 13,
   "id": "b16bdcbc",
   "metadata": {},
   "outputs": [],
   "source": [
    "useful_features=['OFFER_PRICE','SERVICE_COST',\\\n",
    "                 'TOTAL_COST','REV_CURRENT_YEAR','REV_CURRENT_YEAR.2','DISCOUNT_RATE',\\\n",
    "                'TECH','BUSINESS_TYPE','MO_ID_COUNT','AGE',\\\n",
    "                 'TRANSITION_SIZE','INTEREST_RATE','DISCOUNT',\\\n",
    "                 'COST_STRUCTURE','SALES_BRANCH','COST_SIZE'\n",
    "                ]"
   ]
  },
  {
   "cell_type": "code",
   "execution_count": 14,
   "id": "fb2ad70c",
   "metadata": {},
   "outputs": [
    {
     "data": {
      "image/png": "[encoded data removed]",
      "text/plain": [
       "<Figure size 432x288 with 2 Axes>"
      ]
     },
     "metadata": {
      "needs_background": "light"
     },
     "output_type": "display_data"
    }
   ],
   "source": [
    "# Correlation matrix between numerical values (SibSp Parch Age and Fare values) and Survived \n",
    "g = sns.heatmap(train[[\"OFFER_STATUS\",'OFFER_PRICE','SERVICE_COST','ISIC','SERVICE_LIST_PRICE','MATERIAL_COST',\\\n",
    "                 ]].corr(method='kendall'),annot=True, fmt = \".2f\", cmap = \"coolwarm\")"
   ]
  },
  {
   "cell_type": "code",
   "execution_count": 15,
   "id": "6a7590de",
   "metadata": {},
   "outputs": [
    {
     "data": {
      "image/png": "[encoded data removed]",
      "text/plain": [
       "<Figure size 432x288 with 2 Axes>"
      ]
     },
     "metadata": {
      "needs_background": "light"
     },
     "output_type": "display_data"
    }
   ],
   "source": [
    "# Correlation matrix between numerical values (SibSp Parch Age and Fare values) and Survived \n",
    "g = sns.heatmap(train[[\"OFFER_STATUS\",'TOTAL_COST','REV_CURRENT_YEAR','REV_CURRENT_YEAR.2','DISCOUNT_RATE'\\\n",
    "                 ,'COST_SIZE']].corr(method='kendall'),annot=True, fmt = \".2f\", cmap = \"coolwarm\")"
   ]
  },
  {
   "cell_type": "code",
   "execution_count": 16,
   "id": "6192558e",
   "metadata": {},
   "outputs": [
    {
     "data": {
      "image/png": "[encoded data removed]",
      "text/plain": [
       "<Figure size 432x288 with 2 Axes>"
      ]
     },
     "metadata": {
      "needs_background": "light"
     },
     "output_type": "display_data"
    }
   ],
   "source": [
    "# Correlation matrix between numerical values (SibSp Parch Age and Fare values) and Survived \n",
    "g = sns.heatmap(train[[\"OFFER_STATUS\",'TECH','BUSINESS_TYPE','SALES_LOCATION','PRICE_LIST','CREATION_YEAR'\\\n",
    "                 ]].corr(method='kendall'),annot=True, fmt = \".2f\", cmap = \"coolwarm\")"
   ]
  },
  {
   "cell_type": "code",
   "execution_count": 17,
   "id": "3040de0a",
   "metadata": {},
   "outputs": [
    {
     "data": {
      "image/png": "[encoded data removed]",
      "text/plain": [
       "<Figure size 432x288 with 2 Axes>"
      ]
     },
     "metadata": {
      "needs_background": "light"
     },
     "output_type": "display_data"
    }
   ],
   "source": [
    "# Correlation matrix between numerical values (SibSp Parch Age and Fare values) and Survived \n",
    "g = sns.heatmap(train[[\"OFFER_STATUS\",'AGE','GROWTH_RATE','TRANSITION_SIZE','INTEREST_RATE','DISCOUNT',\\\n",
    "                'COST_STRUCTURE','SALES_BRANCH']].corr(method='kendall'),annot=True, fmt = \".2f\", cmap = \"coolwarm\")"
   ]
  },
  {
   "cell_type": "markdown",
   "id": "13105bf6",
   "metadata": {},
   "source": [
    "# Training "
   ]
  },
  {
   "cell_type": "code",
   "execution_count": 18,
   "id": "4d3134c7",
   "metadata": {},
   "outputs": [],
   "source": [
    "oversample = RandomOverSampler(sampling_strategy='minority')\n",
    "X=train[useful_features]\n",
    "y=train['OFFER_STATUS']\n",
    "X_train, X_test, y_train, y_test = train_test_split(X, y, test_size=0.1)\n",
    "X_over, y_over = oversample.fit_resample(X_train, y_train)"
   ]
  },
  {
   "cell_type": "code",
   "execution_count": 19,
   "id": "e52a36f1",
   "metadata": {},
   "outputs": [],
   "source": [
    "# model = LogisticRegression(solver='liblinear', random_state=1).fit(X_train, y_train)\n",
    "# # Step 4: Evaluate the model\n",
    "# p_pred = model.predict_proba(X_train)\n",
    "# y_pred = model.predict(X_train)\n",
    "# score_ = model.score(X_train, y_train)\n",
    "# conf_m = confusion_matrix(y_train, y_pred)\n",
    "# report = classification_report(y_train, y_pred)\n",
    "# sen=conf_m[1][1]/(conf_m[1][0]+conf_m[1][1])\n",
    "# spec=conf_m[0][0]/(conf_m[0][1]+conf_m[0][0])\n",
    "# print(f\"sen={sen}\")\n",
    "# print(f\"spec={spec}\")\n",
    "# print(f\"BAC={(sen+spec)/2}\")"
   ]
  },
  {
   "cell_type": "code",
   "execution_count": 20,
   "id": "89f013fb",
   "metadata": {},
   "outputs": [],
   "source": [
    "# y_pred = model.predict(X_test)\n",
    "# report = classification_report(y_test, y_pred)\n",
    "# conf_m = confusion_matrix(y_test, y_pred)\n",
    "# sen=conf_m[1][1]/(conf_m[1][0]+conf_m[1][1])\n",
    "# spec=conf_m[0][0]/(conf_m[0][1]+conf_m[0][0])\n",
    "# print(f\"BAC={(sen+spec)/2}\")"
   ]
  },
  {
   "cell_type": "code",
   "execution_count": 21,
   "id": "295888a6",
   "metadata": {},
   "outputs": [],
   "source": [
    "# clf = SVC()\n",
    "\n",
    "# clf.fit(X_train, y_train)\n",
    "\n",
    "# y_pred = clf.predict(X_train)\n",
    "\n",
    "# conf_m = confusion_matrix(y_train, y_pred)\n",
    "# report = classification_report(y_train, y_pred)\n",
    "# sen=conf_m[1][1]/(conf_m[1][0]+conf_m[1][1])\n",
    "# spec=conf_m[0][0]/(conf_m[0][1]+conf_m[0][0])\n",
    "# print(f\"sen={sen}\")\n",
    "# print(f\"spec={spec}\")\n",
    "# print(f\"BAC={(sen+spec)/2}\")"
   ]
  },
  {
   "cell_type": "markdown",
   "id": "b03b71a6",
   "metadata": {},
   "source": [
    "# Random Forest"
   ]
  },
  {
   "cell_type": "code",
   "execution_count": 22,
   "id": "47667293",
   "metadata": {},
   "outputs": [],
   "source": [
    "# # random_forest\n",
    "# # Number of trees in random forest\n",
    "# n_estimators = [int(x) for x in np.linspace(start = 1, stop = 20, num = 20)]\n",
    "# # Number of features to consider at every split\n",
    "# max_features = ['auto', 'sqrt']\n",
    "# # Maximum number of levels in tree\n",
    "# max_depth = [int(x) for x in np.linspace(10, 50, num = 40)]\n",
    "# max_depth.append(None)\n",
    "# # Minimum number of samples required to split a node\n",
    "# min_samples_split = [2, 5, 10]\n",
    "# # Minimum number of samples required at each leaf node\n",
    "# min_samples_leaf = [1, 2, 4]\n",
    "# # Method of selecting samples for training each tree\n",
    "# bootstrap = [True]\n",
    "# # Create the random grid\n",
    "# random_grid = {'n_estimators': n_estimators,\n",
    "#                'max_features': max_features,\n",
    "#                'max_depth': max_depth,\n",
    "#                'min_samples_split': min_samples_split,\n",
    "#                'min_samples_leaf': min_samples_leaf,\n",
    "#                'bootstrap': bootstrap}\n",
    "# random_forest = RandomForestClassifier(max_samples=0.9,random_state=0,class_weight='balanced')\n",
    "# clf = RandomizedSearchCV(estimator=random_forest,param_distributions= random_grid,\\\n",
    "#                          n_iter=50,cv=3,verbose=1,random_state=0)\n",
    "# clf.fit(X_over, y_over)\n",
    "# clf.best_params_"
   ]
  },
  {
   "cell_type": "code",
   "execution_count": 23,
   "id": "2e7fe48b",
   "metadata": {},
   "outputs": [
    {
     "name": "stdout",
     "output_type": "stream",
     "text": [
      " sen=0.9351464435146444 , spec=0.4147982062780269, BAC=0.6749723248963356\n"
     ]
    }
   ],
   "source": [
    "# random_forest=RandomForestClassifier(bootstrap=True, max_depth=clf.best_params_['max_depth'],\n",
    "#                                      max_features=clf.best_params_['max_features'], \n",
    "#                                      min_samples_leaf=clf.best_params_['min_samples_leaf'],\n",
    "#                                      min_samples_split=clf.best_params_['min_samples_split'],\n",
    "#                                      n_estimators=clf.best_params_['n_estimators'],\n",
    "#                                      class_weight='balanced',\n",
    "#                                      max_samples=0.9,random_state=0)\n",
    "\n",
    "random_forest=RandomForestClassifier(bootstrap=True, max_depth=25,\n",
    "                                     max_features='sqrt', \n",
    "                                     min_samples_leaf=1,\n",
    "                                     min_samples_split=5,\n",
    "                                     n_estimators=50,\n",
    "                                     class_weight='balanced',\n",
    "                                     max_samples=0.9,random_state=0)\n",
    "random_forest.fit(X_over, y_over)\n",
    "y_pred = random_forest.predict(X_test)\n",
    "conf_m = confusion_matrix(y_test, y_pred)\n",
    "report = classification_report(y_test, y_pred)\n",
    "sen=conf_m[1][1]/(conf_m[1][0]+conf_m[1][1])\n",
    "spec=conf_m[0][0]/(conf_m[0][1]+conf_m[0][0])\n",
    "print(f\" sen={sen} , spec={spec}, BAC={(sen+spec)/2}\")"
   ]
  },
  {
   "cell_type": "code",
   "execution_count": 24,
   "id": "4cad7095",
   "metadata": {},
   "outputs": [
    {
     "data": {
      "text/plain": [
       "array([0.07465814, 0.07115114, 0.0684558 , 0.06595903, 0.06811583,\n",
       "       0.06131634, 0.04358517, 0.07252091, 0.00095123, 0.05257633,\n",
       "       0.0647539 , 0.08681708, 0.08678038, 0.07090739, 0.04759965,\n",
       "       0.06385169])"
      ]
     },
     "execution_count": 24,
     "metadata": {},
     "output_type": "execute_result"
    }
   ],
   "source": [
    "random_forest.feature_importances_"
   ]
  },
  {
   "cell_type": "markdown",
   "id": "7a7e872b",
   "metadata": {},
   "source": [
    "# Balanced Random Forest"
   ]
  },
  {
   "cell_type": "code",
   "execution_count": 25,
   "id": "3749f6e0",
   "metadata": {},
   "outputs": [],
   "source": [
    "# # balanced_random_forest\n",
    "# # Number of trees in random forest\n",
    "# n_estimators = [int(x) for x in np.linspace(start = 1, stop = 20, num = 20)]\n",
    "# # Number of features to consider at every split\n",
    "# max_features = ['auto', 'sqrt']\n",
    "# # Maximum number of levels in tree\n",
    "# max_depth = [int(x) for x in np.linspace(10, 50, num = 40)]\n",
    "# max_depth.append(None)\n",
    "# # Minimum number of samples required to split a node\n",
    "# min_samples_split = [2, 5, 10]\n",
    "# # Minimum number of samples required at each leaf node\n",
    "# min_samples_leaf = [1, 2, 4]\n",
    "# # Method of selecting samples for training each tree\n",
    "# bootstrap = [True]\n",
    "# # Create the random grid\n",
    "# random_grid = {'n_estimators': n_estimators,\n",
    "#                'max_features': max_features,\n",
    "#                'max_depth': max_depth,\n",
    "#                'min_samples_split': min_samples_split,\n",
    "#                'min_samples_leaf': min_samples_leaf,\n",
    "#                'bootstrap': bootstrap}\n",
    "# random_forest = BalancedRandomForestClassifier(class_weight='balanced',max_samples=0.9,random_state=0)\n",
    "# clf = RandomizedSearchCV(estimator=random_forest,param_distributions= random_grid,\\\n",
    "#                          n_iter=50,cv=3,verbose=1,random_state=0)\n",
    "# clf.fit(X_over, y_over)\n",
    "# clf.best_params_"
   ]
  },
  {
   "cell_type": "code",
   "execution_count": 26,
   "id": "8cf29473",
   "metadata": {},
   "outputs": [
    {
     "name": "stdout",
     "output_type": "stream",
     "text": [
      " sen=0.930439330543933 , spec=0.4282511210762332, BAC=0.6793452258100832\n"
     ]
    }
   ],
   "source": [
    "# balanced_random_forest=BalancedRandomForestClassifier(bootstrap=True, max_depth=clf.best_params_['max_depth'],\n",
    "#                                      max_features=clf.best_params_['max_features'], \n",
    "#                                      min_samples_leaf=clf.best_params_['min_samples_leaf'],\n",
    "#                                      min_samples_split=clf.best_params_['min_samples_split'],\n",
    "#                                      n_estimators=clf.best_params_['n_estimators'],\n",
    "#                                      max_samples=0.9,\n",
    "#                                      class_weight='balanced',random_state=0)\n",
    "balanced_random_forest=BalancedRandomForestClassifier(bootstrap=True, max_depth=50,\n",
    "                                     max_features='sqrt', \n",
    "                                     min_samples_leaf=1,\n",
    "                                     min_samples_split=5,\n",
    "                                     n_estimators=50,\n",
    "                                     max_samples=0.9,\n",
    "                                     class_weight='balanced',random_state=0)\n",
    "balanced_random_forest.fit(X_over, y_over)\n",
    "y_pred = balanced_random_forest.predict(X_test)\n",
    "conf_m = confusion_matrix(y_test, y_pred)\n",
    "report = classification_report(y_test, y_pred)\n",
    "sen=conf_m[1][1]/(conf_m[1][0]+conf_m[1][1])\n",
    "spec=conf_m[0][0]/(conf_m[0][1]+conf_m[0][0])\n",
    "print(f\" sen={sen} , spec={spec}, BAC={(sen+spec)/2}\")"
   ]
  },
  {
   "cell_type": "code",
   "execution_count": 27,
   "id": "e1b1d863",
   "metadata": {},
   "outputs": [
    {
     "data": {
      "text/plain": [
       "array([0.07292778, 0.07124327, 0.06825805, 0.06626408, 0.06758951,\n",
       "       0.05959975, 0.0432437 , 0.07150563, 0.00098088, 0.0527082 ,\n",
       "       0.06663632, 0.08635357, 0.08735959, 0.07145386, 0.04971905,\n",
       "       0.06415674])"
      ]
     },
     "execution_count": 27,
     "metadata": {},
     "output_type": "execute_result"
    }
   ],
   "source": [
    "balanced_random_forest.feature_importances_"
   ]
  },
  {
   "cell_type": "code",
   "execution_count": 28,
   "id": "eede91d2",
   "metadata": {},
   "outputs": [
    {
     "name": "stdout",
     "output_type": "stream",
     "text": [
      " sen=0.7285564853556485 , spec=0.6905829596412556, BAC=0.7095697224984521\n"
     ]
    }
   ],
   "source": [
    "# Adaboost\n",
    "ada_boost =  AdaBoostClassifier(n_estimators=50, random_state=0)\n",
    "ada_boost.fit(X_over, y_over)\n",
    "y_pred = ada_boost.predict(X_test)\n",
    "conf_m = confusion_matrix(y_test, y_pred)\n",
    "report = classification_report(y_test, y_pred)\n",
    "sen=conf_m[1][1]/(conf_m[1][0]+conf_m[1][1])\n",
    "spec=conf_m[0][0]/(conf_m[0][1]+conf_m[0][0])\n",
    "print(f\" sen={sen} , spec={spec}, BAC={(sen+spec)/2}\")"
   ]
  },
  {
   "cell_type": "code",
   "execution_count": 29,
   "id": "a3fd18e2",
   "metadata": {},
   "outputs": [],
   "source": [
    "# # Bagging _classifier\n",
    "# # Number of trees in random forest\n",
    "# n_estimators = [int(x) for x in np.linspace(start = 1, stop = 20, num = 20)]\n",
    "# # Maximum number of levels in tree\n",
    "# max_depth = [int(x) for x in np.linspace(10, 60, num = 60)]\n",
    "# max_depth.append(None)\n",
    "# # Minimum number of samples required to split a node\n",
    "# min_samples_split = [2, 5, 10]\n",
    "# # Minimum number of samples required at each leaf node\n",
    "# min_samples_leaf = [1, 2, 4]\n",
    "# # Method of selecting samples for training each tree\n",
    "# bootstrap = [True]\n",
    "# # Create the random grid\n",
    "# random_grid = {'n_estimators': n_estimators,\n",
    "#                'max_features': sp_randFloat(),\n",
    "#                'bootstrap': bootstrap}\n",
    "# bagging_classifier = BaggingClassifier(max_samples=0.9,random_state=0)\n",
    "# clf = RandomizedSearchCV(estimator=bagging_classifier,param_distributions= random_grid,\\\n",
    "#                          n_iter=100,cv=3,verbose=1,random_state=0)\n",
    "# clf.fit(X_over, y_over)\n",
    "# clf.best_params_"
   ]
  },
  {
   "cell_type": "code",
   "execution_count": 30,
   "id": "f002ce36",
   "metadata": {},
   "outputs": [
    {
     "name": "stdout",
     "output_type": "stream",
     "text": [
      " sen=0.875 , spec=0.5067264573991032, BAC=0.6908632286995515\n"
     ]
    }
   ],
   "source": [
    "#Bagging Classifier\n",
    "bagging_classifier = BaggingClassifier(random_state=0)\n",
    "bagging_classifier.fit(X_over, y_over)\n",
    "y_pred = bagging_classifier.predict(X_test)\n",
    "conf_m = confusion_matrix(y_test, y_pred)\n",
    "report = classification_report(y_test, y_pred)\n",
    "sen=conf_m[1][1]/(conf_m[1][0]+conf_m[1][1])\n",
    "spec=conf_m[0][0]/(conf_m[0][1]+conf_m[0][0])\n",
    "print(f\" sen={sen} , spec={spec}, BAC={(sen+spec)/2}\")"
   ]
  },
  {
   "cell_type": "code",
   "execution_count": 31,
   "id": "a58080cb",
   "metadata": {},
   "outputs": [],
   "source": [
    "# max_value=(0,1,0)\n",
    "# for k in range(25,45):\n",
    "#     reg2 = RandomForestRegressor(random_state=0,max_depth=k,bootstrap=True,max_samples=0.9)\n",
    "#     reg2.fit(X_train, y_train)\n",
    "#     y_pred=reg2.predict(X_test)\n",
    "#     y_pred=np.around(y_pred)\n",
    "#     conf_m = confusion_matrix(y_test, y_pred)\n",
    "#     report = classification_report(y_test, y_pred)\n",
    "#     sen=conf_m[1][1]/(conf_m[1][0]+conf_m[1][1])\n",
    "#     spec=conf_m[0][0]/(conf_m[0][1]+conf_m[0][0])\n",
    "#     print(f\"k={k} iterations: sen={sen} , spec={spec}, BAC={(sen+spec)/2}\")\n",
    "#     if (max_value[2]<(sen+spec)/2):\n",
    "#         max_value=(k,1,(sen+spec)/2)\n",
    "# for i in range(1,4):\n",
    "#     reg2 = RandomForestRegressor(random_state=0,max_depth=max_value[0],bootstrap=True,max_samples=0.9,min_samples_leaf=i)\n",
    "#     reg2.fit(X_train, y_train)\n",
    "#     y_pred=reg2.predict(X_test)\n",
    "#     y_pred=np.around(y_pred)\n",
    "#     conf_m = confusion_matrix(y_test, y_pred)\n",
    "#     report = classification_report(y_test, y_pred)\n",
    "#     sen=conf_m[1][1]/(conf_m[1][0]+conf_m[1][1])\n",
    "#     spec=conf_m[0][0]/(conf_m[0][1]+conf_m[0][0])\n",
    "#     print(f\"i={i} iterations: sen={sen} , spec={spec}, BAC={(sen+spec)/2}\")\n",
    "#     if (max_value[2]<(sen+spec)/2):\n",
    "#         max_value=(max_value[0],i,(sen+spec)/2)\n",
    "# print(max_value)"
   ]
  },
  {
   "cell_type": "code",
   "execution_count": 32,
   "id": "7c9453c6",
   "metadata": {},
   "outputs": [],
   "source": [
    "# y_pred=reg2.predict(X_test)\n",
    "# y_pred=np.around(y_pred)\n",
    "# conf_m = confusion_matrix(y_test, y_pred)\n",
    "# report = classification_report(y_test, y_pred)\n",
    "# sen=conf_m[1][1]/(conf_m[1][0]+conf_m[1][1])\n",
    "# spec=conf_m[0][0]/(conf_m[0][1]+conf_m[0][0])\n",
    "# print(f\"sen={sen}\")\n",
    "# print(f\"spec={spec}\")\n",
    "# print(f\"BAC={(sen+spec)/2}\")"
   ]
  },
  {
   "cell_type": "code",
   "execution_count": 46,
   "id": "08ca23f1",
   "metadata": {},
   "outputs": [
    {
     "name": "stdout",
     "output_type": "stream",
     "text": [
      " sen=0.8885983263598326 , spec=0.5448430493273543, BAC=0.7167206878435934\n"
     ]
    }
   ],
   "source": [
    "voting_classifier = VotingClassifier(estimators=[\n",
    "        ('rf', random_forest),('bl',balanced_random_forest),\\\n",
    "        ('bc',bagging_classifier),(\"ada\",ada_boost)],\\\n",
    "                                     weights=[1/4,1/4,1/4,1/4] ,voting='hard')\n",
    "voting_classifier = voting_classifier.fit(X_over, y_over)\n",
    "y_pred=voting_classifier.predict(X_test)\n",
    "\n",
    "conf_m = confusion_matrix(y_test, y_pred)\n",
    "report = classification_report(y_test, y_pred)\n",
    "sen=conf_m[1][1]/(conf_m[1][0]+conf_m[1][1])\n",
    "spec=conf_m[0][0]/(conf_m[0][1]+conf_m[0][0])\n",
    "print(f\" sen={sen} , spec={spec}, BAC={(sen+spec)/2}\")"
   ]
  },
  {
   "cell_type": "code",
   "execution_count": 47,
   "id": "d8db31af",
   "metadata": {},
   "outputs": [
    {
     "data": {
      "text/plain": [
       "array([[ 243,  203],\n",
       "       [ 213, 1699]])"
      ]
     },
     "execution_count": 47,
     "metadata": {},
     "output_type": "execute_result"
    }
   ],
   "source": [
    "conf_m"
   ]
  },
  {
   "cell_type": "code",
   "execution_count": 49,
   "id": "17cf6cc9",
   "metadata": {},
   "outputs": [
    {
     "name": "stdout",
     "output_type": "stream",
     "text": [
      " sen=0.9720109843683988 , spec=0.9939642164259539, BAC=0.9829876003971764\n"
     ]
    }
   ],
   "source": [
    "voting_classifier = voting_classifier.fit(X, y)\n",
    "y_pred=voting_classifier.predict(X)\n",
    "conf_m = confusion_matrix(y, y_pred)\n",
    "report = classification_report(y, y_pred)\n",
    "sen=conf_m[1][1]/(conf_m[1][0]+conf_m[1][1])\n",
    "spec=conf_m[0][0]/(conf_m[0][1]+conf_m[0][0])\n",
    "print(f\" sen={sen} , spec={spec}, BAC={(sen+spec)/2}\")"
   ]
  },
  {
   "cell_type": "code",
   "execution_count": 44,
   "id": "1e707fc8",
   "metadata": {},
   "outputs": [],
   "source": [
    "X_t=test_transaction_result[useful_features]\n",
    "y_result=voting_classifier.predict(X_t)\n",
    "test_result['prediction']=y_result"
   ]
  },
  {
   "cell_type": "code",
   "execution_count": 45,
   "id": "7cad7ce1",
   "metadata": {},
   "outputs": [
    {
     "data": {
      "text/plain": [
       "1    2362\n",
       "0     214\n",
       "Name: prediction, dtype: int64"
      ]
     },
     "execution_count": 45,
     "metadata": {},
     "output_type": "execute_result"
    }
   ],
   "source": [
    "test_result['prediction']=test_result['prediction'].astype('int')\n",
    "test_result['prediction'].value_counts()"
   ]
  },
  {
   "cell_type": "code",
   "execution_count": 38,
   "id": "47d430a4",
   "metadata": {},
   "outputs": [],
   "source": [
    "test_result.to_csv('prediction_SuperFreakonomics.csv',index=False)"
   ]
  }
 ],
 "metadata": {
  "kernelspec": {
   "display_name": "Python 3 (ipykernel)",
   "language": "python",
   "name": "python3"
  },
  "language_info": {
   "codemirror_mode": {
    "name": "ipython",
    "version": 3
   },
   "file_extension": ".py",
   "mimetype": "text/x-python",
   "name": "python",
   "nbconvert_exporter": "python",
   "pygments_lexer": "ipython3",
   "version": "3.9.7"
  }
 },
 "nbformat": 4,
 "nbformat_minor": 5
}
