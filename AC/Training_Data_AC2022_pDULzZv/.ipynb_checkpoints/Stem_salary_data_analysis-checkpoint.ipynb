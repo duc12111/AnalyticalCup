{
 "cells": [
  {
   "cell_type": "code",
   "execution_count": 1,
   "id": "cf630c32",
   "metadata": {},
   "outputs": [],
   "source": [
    "import pandas as pd\n",
    "import numpy as np\n",
    "import collections\n",
    "\n",
    "df=pd.read_csv('/Users/duc/Desktop/Personal Project/Stem salary data set/Levels_Fyi_Salary_Data.csv')"
   ]
  },
  {
   "cell_type": "code",
   "execution_count": 2,
   "id": "6aae3068",
   "metadata": {},
   "outputs": [],
   "source": [
    "#utility functions\n",
    "def filter_country(loc_str:str):\n",
    "    loc=loc_str.split(',')\n",
    "    if len(loc)==2:\n",
    "        return 'America'\n",
    "    else: \n",
    "        return loc[2][1:]\n",
    "    \n",
    "df['company'] = df['company'].map(lambda company: str(company).lower() if company==company else \"Unknown\").astype('string')\n",
    "df['timestamp']=df['timestamp'].astype('string')\n",
    "df['timestamp']=df['timestamp'].str.split(' ').str[0]\n",
    "df['Year']=df['timestamp'].str.split('/').str[2].astype(np.int64)\n",
    "df['timestamp']=pd.to_datetime(df['timestamp'])\n",
    "df['title']=df['title'].astype('string')\n",
    "#can be no general (country)\n",
    "df['location']=df['location'].astype('string')\n",
    "df['tag']=df['tag'].map(lambda tag: 'Unknown' if tag!=tag else tag )\n",
    "df['tag']=df['tag'].astype('string')\n",
    "df['gender']=df['gender'].map(lambda gender: 'Unknown' if gender!=gender or gender=='Title: Senior Software Engineer'\\\n",
    "                                                      else gender).astype('string')\n",
    "#hard to analyse as data is very detail\n",
    "df['otherdetails']=df['otherdetails'].map(lambda other: '' if other!=other else other ).astype('string')\n",
    "#extract location to country\n",
    "df['Country']=df['location'].map(filter_country)\n",
    "country_occurance=df['Country'].value_counts()\n",
    "df['Country']=df['Country'].map(lambda country: 'Other' if country_occurance[country]<100 else country)\\\n",
    "                           .astype('string')"
   ]
  },
  {
   "cell_type": "code",
   "execution_count": 3,
   "id": "34fda7ad",
   "metadata": {},
   "outputs": [],
   "source": [
    "# save fixed data to new csv file\n",
    "df.to_csv('/Users/duc/Desktop/Personal Project/Stem salary data set/Levels_Fyi_Salary_Data_Fixed.csv',sep=',',index=False)"
   ]
  },
  {
   "cell_type": "code",
   "execution_count": 4,
   "id": "09a3057e",
   "metadata": {},
   "outputs": [
    {
     "data": {
      "text/plain": [
       "[{'type': 'Base salary', 'mean': 136687.28129689346},\n",
       " {'type': 'Stock Value', 'mean': 51486.08073259315},\n",
       " {'type': 'Bonus', 'mean': 19334.746587752627}]"
      ]
     },
     "execution_count": 4,
     "metadata": {},
     "output_type": "execute_result"
    }
   ],
   "source": [
    "salary = []\n",
    "salary.append({\n",
    "    'type' : 'Base salary',\n",
    "    'mean' : df['basesalary'].mean()\n",
    "})\n",
    "salary.append({\n",
    "    'type' : 'Stock Value',\n",
    "    'mean' : df['stockgrantvalue'].mean()\n",
    "})\n",
    "salary.append({\n",
    "    'type' : 'Bonus',\n",
    "    'mean' : df['bonus'].mean()\n",
    "})\n",
    "salary"
   ]
  },
  {
   "cell_type": "code",
   "execution_count": 5,
   "id": "5ead3540",
   "metadata": {},
   "outputs": [
    {
     "data": {
      "image/png": "[encoded data removed]",
      "text/plain": [
       "<Figure size 432x288 with 1 Axes>"
      ]
     },
     "metadata": {
      "needs_background": "light"
     },
     "output_type": "display_data"
    }
   ],
   "source": [
    "#display salary \n",
    "salary_bins=list(range(0,1000000,50000))\n",
    "salary_bins.append(df['totalyearlycompensation'].max())\n",
    "hist=df.hist(bins=salary_bins,column='totalyearlycompensation')\n",
    "for x in hist[0]:\n",
    "    # Despine\n",
    "    x.spines['right'].set_visible(False)\n",
    "    x.spines['top'].set_visible(False)\n",
    "    x.spines['left'].set_visible(False)\n",
    "    # set axis\n",
    "    x.set_ylabel('number occurances')\n",
    "    x.set_xlabel('total salary')\n"
   ]
  },
  {
   "cell_type": "code",
   "execution_count": 6,
   "id": "6316650b",
   "metadata": {},
   "outputs": [
    {
     "name": "stdout",
     "output_type": "stream",
     "text": [
      "mean: 177845.409, standard deviation: 117969.030\n"
     ]
    },
    {
     "data": {
      "image/png": "[encoded data removed]",
      "text/plain": [
       "<Figure size 432x288 with 1 Axes>"
      ]
     },
     "metadata": {
      "needs_background": "light"
     },
     "output_type": "display_data"
    }
   ],
   "source": [
    "#display salary of bachelor group\n",
    "salary_bins=list(range(0,1000000,50000))\n",
    "df1=df.loc[df['Education']==\"Bachelor's Degree\"]\n",
    "salary_bins.append(df1['totalyearlycompensation'].max())\n",
    "hist=df1.hist(bins=salary_bins,column='totalyearlycompensation')\n",
    "for x in hist[0]:\n",
    "    # Despine\n",
    "    x.spines['right'].set_visible(False)\n",
    "    x.spines['top'].set_visible(False)\n",
    "    x.spines['left'].set_visible(False)\n",
    "    # set axis\n",
    "    x.set_ylabel('number occurances')\n",
    "    x.set_xlabel('total salary')\n",
    "print(\"mean: {mean:.3f}, standard deviation: {std:.3f}\".\\\n",
    "      format(mean=df1['totalyearlycompensation'].mean(),std=df1['totalyearlycompensation'].std()))"
   ]
  },
  {
   "cell_type": "code",
   "execution_count": 7,
   "id": "3ed15fe4",
   "metadata": {},
   "outputs": [
    {
     "name": "stdout",
     "output_type": "stream",
     "text": [
      "mean: 177845.409, standard deviation: 117969.030\n",
      "correlation total salary and basic salary: 0.673\n",
      "correlation total salary and basic salary: 0.489\n",
      "correlation total salary and basic salary: 0.771\n"
     ]
    }
   ],
   "source": [
    "# some basic analyse\n",
    "#salary correlation with base,bonus,stockgrant\n",
    "print(\"mean: {mean:.3f}, standard deviation: {std:.3f}\".\\\n",
    "      format(mean=df1['totalyearlycompensation'].mean(),std=df1['totalyearlycompensation'].std()))\n",
    "print(\"correlation total salary and basic salary: {corr:.3f}\"\\\n",
    "      .format(corr=df['totalyearlycompensation'].corr(df['basesalary'],method='pearson')))\n",
    "print(\"correlation total salary and basic salary: {corr:.3f}\"\\\n",
    "      .format(corr=df['totalyearlycompensation'].corr(df['bonus'],method='pearson')))\n",
    "print(\"correlation total salary and basic salary: {corr:.3f}\"\\\n",
    "      .format(corr=df['totalyearlycompensation'].corr(df['stockgrantvalue'],method='pearson')))\n"
   ]
  },
  {
   "cell_type": "code",
   "execution_count": 8,
   "id": "3971f38e",
   "metadata": {},
   "outputs": [
    {
     "name": "stdout",
     "output_type": "stream",
     "text": [
      "correlation total salary and basic salary: 0.456\n",
      "correlation total salary and basic salary: 0.149\n"
     ]
    }
   ],
   "source": [
    "#salary correlation with year of experience\n",
    "print(\"correlation total salary and basic salary: {corr:.3f}\"\\\n",
    "      .format(corr=df['totalyearlycompensation'].corr(df['yearsofexperience'],method='spearman')))\n",
    "print(\"correlation total salary and basic salary: {corr:.3f}\"\\\n",
    "      .format(corr=df['totalyearlycompensation'].corr(df['yearsatcompany'],method='spearman')))\n"
   ]
  },
  {
   "cell_type": "code",
   "execution_count": 9,
   "id": "794f4e5d",
   "metadata": {},
   "outputs": [
    {
     "name": "stdout",
     "output_type": "stream",
     "text": [
      "Year 2017: 249300.000\n",
      "Year 2018: 246749.552\n",
      "Year 2019: 231922.692\n",
      "Year 2020: 213888.791\n",
      "Year 2021: 205980.877\n"
     ]
    }
   ],
   "source": [
    "#mean salary decrease by time \n",
    "for i in range (2017,2022):\n",
    "    print(\"Year {year}: {salary:.3f}\".format(year=i,salary=df.loc[df['Year']==i]['totalyearlycompensation'].mean()))\n",
    "# check the education distribution between year\n",
    "# salary decrease because of the difference in the distribution of employee level and knowledge "
   ]
  },
  {
   "cell_type": "code",
   "execution_count": 10,
   "id": "3663b201",
   "metadata": {},
   "outputs": [
    {
     "data": {
      "text/plain": [
       "Asian          11772\n",
       "White           8032\n",
       "Hispanic        1129\n",
       "Two Or More      804\n",
       "Black            690\n",
       "Name: Race, dtype: int64"
      ]
     },
     "execution_count": 10,
     "metadata": {},
     "output_type": "execute_result"
    }
   ],
   "source": [
    "df['Race'].value_counts()"
   ]
  },
  {
   "cell_type": "code",
   "execution_count": 11,
   "id": "f1d8dbe7",
   "metadata": {},
   "outputs": [
    {
     "data": {
      "text/html": [
       "<div>\n",
       "<style scoped>\n",
       "    .dataframe tbody tr th:only-of-type {\n",
       "        vertical-align: middle;\n",
       "    }\n",
       "\n",
       "    .dataframe tbody tr th {\n",
       "        vertical-align: top;\n",
       "    }\n",
       "\n",
       "    .dataframe thead th {\n",
       "        text-align: right;\n",
       "    }\n",
       "</style>\n",
       "<table border=\"1\" class=\"dataframe\">\n",
       "  <thead>\n",
       "    <tr style=\"text-align: right;\">\n",
       "      <th></th>\n",
       "      <th>Job</th>\n",
       "      <th>Count</th>\n",
       "    </tr>\n",
       "  </thead>\n",
       "  <tbody>\n",
       "    <tr>\n",
       "      <th>0</th>\n",
       "      <td>Software Engineer</td>\n",
       "      <td>41231</td>\n",
       "    </tr>\n",
       "    <tr>\n",
       "      <th>1</th>\n",
       "      <td>Product Manager</td>\n",
       "      <td>4673</td>\n",
       "    </tr>\n",
       "    <tr>\n",
       "      <th>2</th>\n",
       "      <td>Software Engineering Manager</td>\n",
       "      <td>3569</td>\n",
       "    </tr>\n",
       "    <tr>\n",
       "      <th>3</th>\n",
       "      <td>Data Scientist</td>\n",
       "      <td>2578</td>\n",
       "    </tr>\n",
       "    <tr>\n",
       "      <th>4</th>\n",
       "      <td>Hardware Engineer</td>\n",
       "      <td>2200</td>\n",
       "    </tr>\n",
       "    <tr>\n",
       "      <th>5</th>\n",
       "      <td>Product Designer</td>\n",
       "      <td>1516</td>\n",
       "    </tr>\n",
       "    <tr>\n",
       "      <th>6</th>\n",
       "      <td>Technical Program Manager</td>\n",
       "      <td>1381</td>\n",
       "    </tr>\n",
       "    <tr>\n",
       "      <th>7</th>\n",
       "      <td>Solution Architect</td>\n",
       "      <td>1157</td>\n",
       "    </tr>\n",
       "    <tr>\n",
       "      <th>8</th>\n",
       "      <td>Management Consultant</td>\n",
       "      <td>976</td>\n",
       "    </tr>\n",
       "    <tr>\n",
       "      <th>9</th>\n",
       "      <td>Business Analyst</td>\n",
       "      <td>885</td>\n",
       "    </tr>\n",
       "  </tbody>\n",
       "</table>\n",
       "</div>"
      ],
      "text/plain": [
       "                            Job  Count\n",
       "0             Software Engineer  41231\n",
       "1               Product Manager   4673\n",
       "2  Software Engineering Manager   3569\n",
       "3                Data Scientist   2578\n",
       "4             Hardware Engineer   2200\n",
       "5              Product Designer   1516\n",
       "6     Technical Program Manager   1381\n",
       "7            Solution Architect   1157\n",
       "8         Management Consultant    976\n",
       "9              Business Analyst    885"
      ]
     },
     "execution_count": 11,
     "metadata": {},
     "output_type": "execute_result"
    }
   ],
   "source": [
    "#job title\n",
    "job_title = df[\"title\"].value_counts()[0:10].reset_index()\n",
    "job_title.columns = [\"Job\", \"Count\"]\n",
    "job_title"
   ]
  },
  {
   "cell_type": "code",
   "execution_count": 12,
   "id": "d9259aec",
   "metadata": {},
   "outputs": [
    {
     "data": {
      "text/html": [
       "<div>\n",
       "<style scoped>\n",
       "    .dataframe tbody tr th:only-of-type {\n",
       "        vertical-align: middle;\n",
       "    }\n",
       "\n",
       "    .dataframe tbody tr th {\n",
       "        vertical-align: top;\n",
       "    }\n",
       "\n",
       "    .dataframe thead th {\n",
       "        text-align: right;\n",
       "    }\n",
       "</style>\n",
       "<table border=\"1\" class=\"dataframe\">\n",
       "  <thead>\n",
       "    <tr style=\"text-align: right;\">\n",
       "      <th></th>\n",
       "      <th>company</th>\n",
       "      <th>Count</th>\n",
       "    </tr>\n",
       "  </thead>\n",
       "  <tbody>\n",
       "    <tr>\n",
       "      <th>0</th>\n",
       "      <td>amazon</td>\n",
       "      <td>8199</td>\n",
       "    </tr>\n",
       "    <tr>\n",
       "      <th>1</th>\n",
       "      <td>microsoft</td>\n",
       "      <td>5241</td>\n",
       "    </tr>\n",
       "    <tr>\n",
       "      <th>2</th>\n",
       "      <td>google</td>\n",
       "      <td>4362</td>\n",
       "    </tr>\n",
       "    <tr>\n",
       "      <th>3</th>\n",
       "      <td>facebook</td>\n",
       "      <td>3004</td>\n",
       "    </tr>\n",
       "    <tr>\n",
       "      <th>4</th>\n",
       "      <td>apple</td>\n",
       "      <td>2047</td>\n",
       "    </tr>\n",
       "    <tr>\n",
       "      <th>5</th>\n",
       "      <td>oracle</td>\n",
       "      <td>1143</td>\n",
       "    </tr>\n",
       "    <tr>\n",
       "      <th>6</th>\n",
       "      <td>salesforce</td>\n",
       "      <td>1065</td>\n",
       "    </tr>\n",
       "    <tr>\n",
       "      <th>7</th>\n",
       "      <td>intel</td>\n",
       "      <td>966</td>\n",
       "    </tr>\n",
       "  </tbody>\n",
       "</table>\n",
       "</div>"
      ],
      "text/plain": [
       "      company  Count\n",
       "0      amazon   8199\n",
       "1   microsoft   5241\n",
       "2      google   4362\n",
       "3    facebook   3004\n",
       "4       apple   2047\n",
       "5      oracle   1143\n",
       "6  salesforce   1065\n",
       "7       intel    966"
      ]
     },
     "execution_count": 12,
     "metadata": {},
     "output_type": "execute_result"
    }
   ],
   "source": [
    "#company\n",
    "company_title = df[\"company\"].value_counts()[0:8].reset_index()\n",
    "company_title.columns = [\"company\", \"Count\"]\n",
    "company_title"
   ]
  },
  {
   "cell_type": "code",
   "execution_count": 13,
   "id": "7f52c2ec",
   "metadata": {},
   "outputs": [
    {
     "data": {
      "text/plain": [
       "Male       35702\n",
       "Unknown    19541\n",
       "Female      6999\n",
       "Other        400\n",
       "Name: gender, dtype: Int64"
      ]
     },
     "execution_count": 13,
     "metadata": {},
     "output_type": "execute_result"
    }
   ],
   "source": [
    "#gender distribution\n",
    "df['gender'].value_counts()"
   ]
  },
  {
   "cell_type": "code",
   "execution_count": 14,
   "id": "cdde0fde",
   "metadata": {},
   "outputs": [
    {
     "name": "stdout",
     "output_type": "stream",
     "text": [
      "mean: 6.396, standard deviation: 5.729\n",
      "<class 'pandas.core.frame.DataFrame'>\n",
      "RangeIndex: 62642 entries, 0 to 62641\n",
      "Data columns (total 31 columns):\n",
      " #   Column                   Non-Null Count  Dtype         \n",
      "---  ------                   --------------  -----         \n",
      " 0   timestamp                62642 non-null  datetime64[ns]\n",
      " 1   company                  62642 non-null  string        \n",
      " 2   level                    62523 non-null  object        \n",
      " 3   title                    62642 non-null  string        \n",
      " 4   totalyearlycompensation  62642 non-null  int64         \n",
      " 5   location                 62642 non-null  string        \n",
      " 6   yearsofexperience        62642 non-null  float64       \n",
      " 7   yearsatcompany           62642 non-null  float64       \n",
      " 8   tag                      62642 non-null  string        \n",
      " 9   basesalary               62642 non-null  float64       \n",
      " 10  stockgrantvalue          62642 non-null  float64       \n",
      " 11  bonus                    62642 non-null  float64       \n",
      " 12  gender                   62642 non-null  string        \n",
      " 13  otherdetails             62642 non-null  string        \n",
      " 14  cityid                   62642 non-null  int64         \n",
      " 15  dmaid                    62640 non-null  float64       \n",
      " 16  rowNumber                62642 non-null  int64         \n",
      " 17  Masters_Degree           62642 non-null  int64         \n",
      " 18  Bachelors_Degree         62642 non-null  int64         \n",
      " 19  Doctorate_Degree         62642 non-null  int64         \n",
      " 20  Highschool               62642 non-null  int64         \n",
      " 21  Some_College             62642 non-null  int64         \n",
      " 22  Race_Asian               62642 non-null  int64         \n",
      " 23  Race_White               62642 non-null  int64         \n",
      " 24  Race_Two_Or_More         62642 non-null  int64         \n",
      " 25  Race_Black               62642 non-null  int64         \n",
      " 26  Race_Hispanic            62642 non-null  int64         \n",
      " 27  Race                     22427 non-null  object        \n",
      " 28  Education                30370 non-null  object        \n",
      " 29  Year                     62642 non-null  int64         \n",
      " 30  Country                  62642 non-null  string        \n",
      "dtypes: datetime64[ns](1), float64(6), int64(14), object(3), string(7)\n",
      "memory usage: 14.8+ MB\n"
     ]
    }
   ],
   "source": [
    "# years of experience distribution\n",
    "print(\"mean: {mean:.3f}, standard deviation: {std:.3f}\".\\\n",
    "      format(mean=df1['yearsofexperience'].mean(),std=df1['yearsofexperience'].std()))\n",
    "df['yearsofexperience'].value_counts()\n",
    "df.info()"
   ]
  },
  {
   "cell_type": "code",
   "execution_count": 16,
   "id": "e764de5e",
   "metadata": {},
   "outputs": [
    {
     "name": "stdout",
     "output_type": "stream",
     "text": [
      "mean: 6.396, standard deviation: 5.729\n",
      "<class 'pandas.core.frame.DataFrame'>\n",
      "RangeIndex: 62642 entries, 0 to 62641\n",
      "Data columns (total 31 columns):\n",
      " #   Column                   Non-Null Count  Dtype         \n",
      "---  ------                   --------------  -----         \n",
      " 0   timestamp                62642 non-null  datetime64[ns]\n",
      " 1   company                  62642 non-null  string        \n",
      " 2   level                    62523 non-null  object        \n",
      " 3   title                    62642 non-null  string        \n",
      " 4   totalyearlycompensation  62642 non-null  int64         \n",
      " 5   location                 62642 non-null  string        \n",
      " 6   yearsofexperience        62642 non-null  float64       \n",
      " 7   yearsatcompany           62642 non-null  float64       \n",
      " 8   tag                      62642 non-null  string        \n",
      " 9   basesalary               62642 non-null  float64       \n",
      " 10  stockgrantvalue          62642 non-null  float64       \n",
      " 11  bonus                    62642 non-null  float64       \n",
      " 12  gender                   62642 non-null  string        \n",
      " 13  otherdetails             62642 non-null  string        \n",
      " 14  cityid                   62642 non-null  int64         \n",
      " 15  dmaid                    62640 non-null  float64       \n",
      " 16  rowNumber                62642 non-null  int64         \n",
      " 17  Masters_Degree           62642 non-null  int64         \n",
      " 18  Bachelors_Degree         62642 non-null  int64         \n",
      " 19  Doctorate_Degree         62642 non-null  int64         \n",
      " 20  Highschool               62642 non-null  int64         \n",
      " 21  Some_College             62642 non-null  int64         \n",
      " 22  Race_Asian               62642 non-null  int64         \n",
      " 23  Race_White               62642 non-null  int64         \n",
      " 24  Race_Two_Or_More         62642 non-null  int64         \n",
      " 25  Race_Black               62642 non-null  int64         \n",
      " 26  Race_Hispanic            62642 non-null  int64         \n",
      " 27  Race                     22427 non-null  object        \n",
      " 28  Education                30370 non-null  object        \n",
      " 29  Year                     62642 non-null  int64         \n",
      " 30  Country                  62642 non-null  string        \n",
      "dtypes: datetime64[ns](1), float64(6), int64(14), object(3), string(7)\n",
      "memory usage: 14.8+ MB\n"
     ]
    }
   ],
   "source": [
    "# years of experience distribution\n",
    "print(\"mean: {mean:.3f}, standard deviation: {std:.3f}\".\\\n",
    "      format(mean=df1['yearsofexperience'].mean(),std=df1['yearsofexperience'].std()))\n",
    "df['yearsofexperience'].value_counts()"
   ]
  },
  {
   "cell_type": "code",
   "execution_count": 17,
   "id": "4be47957",
   "metadata": {},
   "outputs": [
    {
     "name": "stdout",
     "output_type": "stream",
     "text": [
      "mean: 2.523, standard deviation: 3.207\n"
     ]
    },
    {
     "data": {
      "text/plain": [
       "0.000    15916\n",
       "1.000    11791\n",
       "2.000    10329\n",
       "3.000     6989\n",
       "4.000     4685\n",
       "         ...  \n",
       "2.900        1\n",
       "0.850        1\n",
       "4.750        1\n",
       "4.400        1\n",
       "1.666        1\n",
       "Name: yearsatcompany, Length: 81, dtype: int64"
      ]
     },
     "execution_count": 17,
     "metadata": {},
     "output_type": "execute_result"
    }
   ],
   "source": [
    "# years in company distribution\n",
    "print(\"mean: {mean:.3f}, standard deviation: {std:.3f}\".\\\n",
    "      format(mean=df1['yearsatcompany'].mean(),std=df1['yearsatcompany'].std()))\n",
    "df['yearsatcompany'].value_counts()"
   ]
  },
  {
   "cell_type": "code",
   "execution_count": 10,
   "id": "a8bdd566",
   "metadata": {},
   "outputs": [
    {
     "name": "stdout",
     "output_type": "stream",
     "text": [
      "1\n",
      "2\n",
      "3\n",
      "4\n",
      "5\n",
      "6\n",
      "7\n",
      "8\n"
     ]
    },
    {
     "data": {
      "text/plain": [
       "40320"
      ]
     },
     "execution_count": 10,
     "metadata": {},
     "output_type": "execute_result"
    }
   ],
   "source": [
    "def function(n):\n",
    "    if n<0:\n",
    "        return None\n",
    "    result=1\n",
    "    i=1\n",
    "    while i<n+1:\n",
    "        print(i)\n",
    "        result=result*i\n",
    "        i=i+1\n",
    "        \n",
    "    return result\n",
    "function(8)"
   ]
  },
  {
   "cell_type": "code",
   "execution_count": null,
   "id": "bea4fe08",
   "metadata": {},
   "outputs": [],
   "source": []
  }
 ],
 "metadata": {
  "kernelspec": {
   "display_name": "Python 3 (ipykernel)",
   "language": "python",
   "name": "python3"
  },
  "language_info": {
   "codemirror_mode": {
    "name": "ipython",
    "version": 3
   },
   "file_extension": ".py",
   "mimetype": "text/x-python",
   "name": "python",
   "nbconvert_exporter": "python",
   "pygments_lexer": "ipython3",
   "version": "3.9.7"
  }
 },
 "nbformat": 4,
 "nbformat_minor": 5
}
