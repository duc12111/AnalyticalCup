{
 "cells": [
  {
   "cell_type": "code",
   "execution_count": 1,
   "id": "67a0215f",
   "metadata": {},
   "outputs": [],
   "source": [
    "import numpy as np # linear algebra\n",
    "import pandas as pd # data processing, CSV file I/O (e.g. pd.read_csv)\n",
    "\n",
    "# Input data files are available in the read-only \"../input/\" directory\n",
    "# For example, running this (by clicking run or pressing Shift+Enter) will list all files under the input directory\n",
    "\n",
    "import os\n",
    "import random"
   ]
  },
  {
   "cell_type": "code",
   "execution_count": 2,
   "id": "701c2a1a",
   "metadata": {},
   "outputs": [],
   "source": [
    "transaction = pd.read_csv(\"/Users/duc/Desktop/Business Analytic and ml/AC/Training_Data_AC2022_pDULzZv/transactions.csv\")\n",
    "customers = pd.read_csv(\"/Users/duc/Desktop/Business Analytic and ml/AC/Training_Data_AC2022_pDULzZv/customers.csv\")\n",
    "geo = pd.read_csv(\"/Users/duc/Desktop/Business Analytic and ml/AC/Training_Data_AC2022_pDULzZv/geo.csv\")\n",
    "\n",
    "random.seed(2022)"
   ]
  },
  {
   "cell_type": "code",
   "execution_count": 3,
   "id": "95da1a93",
   "metadata": {},
   "outputs": [],
   "source": [
    "# data cleansing\n",
    "transaction = transaction[transaction['OFFER_STATUS'].notna()]\n",
    "transaction['CUSTOMER'] = transaction['CUSTOMER'].map(lambda customer: 9000 if customer =='\"#NV\"' else \\\n",
    "                            -1 if customer=='\"NA\"' else int(customer[1:-1])).astype('int')\n",
    "customers['REV_CURRENT_YEAR']=customers['REV_CURRENT_YEAR'].map(lambda rev: np.nan \\\n",
    "                if rev=='\"Yes\"' or rev=='\"No\"'else float(rev[1:-1])).astype('float64')\n",
    "train=pd.merge(transaction, customers, \n",
    "                   on='CUSTOMER', \n",
    "                   how='left')\n",
    "train=train.drop(columns=['MO_ID', 'SO_ID'])"
   ]
  },
  {
   "cell_type": "code",
   "execution_count": 32,
   "id": "6700411a",
   "metadata": {},
   "outputs": [
    {
     "data": {
      "text/plain": [
       "<bound method NDFrame.head of        CUSTOMER END_CUSTOMER  OFFER_PRICE  SERVICE_LIST_PRICE  MATERIAL_COST  \\\n",
       "0             1          NaN      1711.00              1395.0         1107.0   \n",
       "1             1          NaN      1711.00              1395.0         1107.0   \n",
       "2             2          NaN     26687.60             14651.0         9282.0   \n",
       "3             2          NaN     26687.60             14651.0         9282.0   \n",
       "4             3          NaN      6264.70              2296.0         1722.0   \n",
       "...         ...          ...          ...                 ...            ...   \n",
       "39820        97           No      2672.00              2672.0         1731.2   \n",
       "39821      1993          Yes     16961.99             12345.0         8925.2   \n",
       "39822      1993          Yes     16961.99             12345.0         8925.2   \n",
       "39823      2189          NaN      5004.30              5368.0         3504.8   \n",
       "39824      2189          NaN      5004.30              5368.0         3504.8   \n",
       "\n",
       "       SERVICE_COST     PRICE_LIST    ISIC      MO_CREATED_DATE  \\\n",
       "0            186.30   SFT Standard  2100.0     14.01.2019 08:43   \n",
       "1            186.30   SFT Standard  2100.0     14.01.2019 08:43   \n",
       "2           7768.34  CMT Installer  7110.0     12.01.2019 16:36   \n",
       "3           7768.34  CMT Installer  7110.0     12.01.2019 16:36   \n",
       "4           2168.56   SFT Standard  6820.0     14.01.2019 10:16   \n",
       "...             ...            ...     ...                  ...   \n",
       "39820          0.00   Tarif public  4321.0  2021-06-21 15:00:58   \n",
       "39821       1878.25   Tarif public  8610.0  2021-06-21 18:14:22   \n",
       "39822       1878.25   Tarif public  8610.0  2021-06-21 18:14:22   \n",
       "39823        784.26   Tarif public  4321.0  2021-06-22 13:36:43   \n",
       "39824        784.26   Tarif public  4321.0  2021-06-22 13:36:43   \n",
       "\n",
       "           SO_CREATED_DATE  ... COSTS_PRODUCT_E       SALES_LOCATION  \\\n",
       "0         14.01.2019 08:45  ...             0.0       Luzern Central   \n",
       "1         14.01.2019 08:45  ...             0.0       Luzern Central   \n",
       "2         14.01.2019 08:50  ...             0.0          Zürich East   \n",
       "3         14.01.2019 08:50  ...             0.0          Zürich East   \n",
       "4         14.01.2019 10:16  ...             0.0       Luzern Central   \n",
       "...                    ...  ...             ...                  ...   \n",
       "39820  2021-06-21 15:00:59  ...             0.0  Grenoble Centre-Est   \n",
       "39821  2021-06-21 18:14:23  ...           190.3     Dijon Centre-Est   \n",
       "39822  2021-06-21 18:14:23  ...           190.3     Dijon Centre-Est   \n",
       "39823  2021-06-22 13:36:44  ...             0.0   Velizy Grand Paris   \n",
       "39824  2021-06-22 13:36:44  ...             0.0   Velizy Grand Paris   \n",
       "\n",
       "      TEST_SET_ID  REV_CURRENT_YEAR  REV_CURRENT_YEAR.1  REV_CURRENT_YEAR.2  \\\n",
       "0             NaN      8.128392e+04        8.128392e+04        3.220362e+04   \n",
       "1             NaN      1.947581e+04        1.947581e+04        6.628350e+04   \n",
       "2             NaN      0.000000e+00        0.000000e+00        0.000000e+00   \n",
       "3             NaN      4.666340e+04        4.666340e+04        4.593373e+04   \n",
       "4             NaN      2.257032e+04        2.257032e+04        1.325032e+04   \n",
       "...           ...               ...                 ...                 ...   \n",
       "39820         NaN      6.342747e+05        6.342747e+05        9.718289e+05   \n",
       "39821         NaN      3.495037e+06        3.495037e+06        7.932177e+06   \n",
       "39822         NaN      2.985272e+04        2.985272e+04        1.891347e+05   \n",
       "39823         NaN      3.814060e+04        3.814060e+04        1.118220e+04   \n",
       "39824         NaN      6.178468e+05        6.178468e+05        6.571532e+05   \n",
       "\n",
       "      CREATION_YEAR                        OWNERSHIP      COUNTRY  \\\n",
       "0        01/01/2004  Privately Owned/Publicly Traded  Switzerland   \n",
       "1        01/01/2005  Privately Owned/Publicly Traded       France   \n",
       "2        01.01.2004  Privately Owned/Publicly Traded  Switzerland   \n",
       "3        01.01.2005  Privately Owned/Publicly Traded       France   \n",
       "4        01/01/2005  Privately Owned/Publicly Traded       France   \n",
       "...             ...                              ...          ...   \n",
       "39820    01/01/2005  Privately Owned/Publicly Traded       France   \n",
       "39821    01/01/2004  Privately Owned/Publicly Traded  Switzerland   \n",
       "39822    01/01/2005  Privately Owned/Publicly Traded       France   \n",
       "39823    01/01/2003  Privately Owned/Publicly Traded  Switzerland   \n",
       "39824    01/01/2012  Privately Owned/Publicly Traded       France   \n",
       "\n",
       "             CURRENCY  \n",
       "0        Chinese Yuan  \n",
       "1      Pound Sterling  \n",
       "2        Chinese Yuan  \n",
       "3           US Dollar  \n",
       "4      Pound Sterling  \n",
       "...               ...  \n",
       "39820       US Dollar  \n",
       "39821    Chinese Yuan  \n",
       "39822       US Dollar  \n",
       "39823  Pound Sterling  \n",
       "39824    Chinese Yuan  \n",
       "\n",
       "[39825 rows x 28 columns]>"
      ]
     },
     "execution_count": 32,
     "metadata": {},
     "output_type": "execute_result"
    }
   ],
   "source": [
    "train[train['END_CUSTOMER']==np.nan]"
   ]
  },
  {
   "cell_type": "code",
   "execution_count": 21,
   "id": "5930a282",
   "metadata": {},
   "outputs": [
    {
     "ename": "KeyError",
     "evalue": "('CUSTOMER', 'END_CUSTOMER')",
     "output_type": "error",
     "traceback": [
      "\u001b[0;31m---------------------------------------------------------------------------\u001b[0m",
      "\u001b[0;31mKeyError\u001b[0m                                  Traceback (most recent call last)",
      "\u001b[0;32m~/opt/anaconda3/envs/ml/lib/python3.9/site-packages/pandas/core/indexes/base.py\u001b[0m in \u001b[0;36mget_loc\u001b[0;34m(self, key, method, tolerance)\u001b[0m\n\u001b[1;32m   3360\u001b[0m             \u001b[0;32mtry\u001b[0m\u001b[0;34m:\u001b[0m\u001b[0;34m\u001b[0m\u001b[0;34m\u001b[0m\u001b[0m\n\u001b[0;32m-> 3361\u001b[0;31m                 \u001b[0;32mreturn\u001b[0m \u001b[0mself\u001b[0m\u001b[0;34m.\u001b[0m\u001b[0m_engine\u001b[0m\u001b[0;34m.\u001b[0m\u001b[0mget_loc\u001b[0m\u001b[0;34m(\u001b[0m\u001b[0mcasted_key\u001b[0m\u001b[0;34m)\u001b[0m\u001b[0;34m\u001b[0m\u001b[0;34m\u001b[0m\u001b[0m\n\u001b[0m\u001b[1;32m   3362\u001b[0m             \u001b[0;32mexcept\u001b[0m \u001b[0mKeyError\u001b[0m \u001b[0;32mas\u001b[0m \u001b[0merr\u001b[0m\u001b[0;34m:\u001b[0m\u001b[0;34m\u001b[0m\u001b[0;34m\u001b[0m\u001b[0m\n",
      "\u001b[0;32m~/opt/anaconda3/envs/ml/lib/python3.9/site-packages/pandas/_libs/index.pyx\u001b[0m in \u001b[0;36mpandas._libs.index.IndexEngine.get_loc\u001b[0;34m()\u001b[0m\n",
      "\u001b[0;32m~/opt/anaconda3/envs/ml/lib/python3.9/site-packages/pandas/_libs/index.pyx\u001b[0m in \u001b[0;36mpandas._libs.index.IndexEngine.get_loc\u001b[0;34m()\u001b[0m\n",
      "\u001b[0;32mpandas/_libs/hashtable_class_helper.pxi\u001b[0m in \u001b[0;36mpandas._libs.hashtable.PyObjectHashTable.get_item\u001b[0;34m()\u001b[0m\n",
      "\u001b[0;32mpandas/_libs/hashtable_class_helper.pxi\u001b[0m in \u001b[0;36mpandas._libs.hashtable.PyObjectHashTable.get_item\u001b[0;34m()\u001b[0m\n",
      "\u001b[0;31mKeyError\u001b[0m: ('CUSTOMER', 'END_CUSTOMER')",
      "\nThe above exception was the direct cause of the following exception:\n",
      "\u001b[0;31mKeyError\u001b[0m                                  Traceback (most recent call last)",
      "\u001b[0;32m/var/folders/n1/fpyhdnv943b_ffbq6qwk496h0000gn/T/ipykernel_4486/3213879999.py\u001b[0m in \u001b[0;36m<module>\u001b[0;34m\u001b[0m\n\u001b[0;32m----> 1\u001b[0;31m \u001b[0mtrain\u001b[0m\u001b[0;34m[\u001b[0m\u001b[0;34m'CUSTOMER'\u001b[0m\u001b[0;34m,\u001b[0m\u001b[0;34m'END_CUSTOMER'\u001b[0m\u001b[0;34m]\u001b[0m\u001b[0;34m\u001b[0m\u001b[0;34m\u001b[0m\u001b[0m\n\u001b[0m",
      "\u001b[0;32m~/opt/anaconda3/envs/ml/lib/python3.9/site-packages/pandas/core/frame.py\u001b[0m in \u001b[0;36m__getitem__\u001b[0;34m(self, key)\u001b[0m\n\u001b[1;32m   3456\u001b[0m             \u001b[0;32mif\u001b[0m \u001b[0mself\u001b[0m\u001b[0;34m.\u001b[0m\u001b[0mcolumns\u001b[0m\u001b[0;34m.\u001b[0m\u001b[0mnlevels\u001b[0m \u001b[0;34m>\u001b[0m \u001b[0;36m1\u001b[0m\u001b[0;34m:\u001b[0m\u001b[0;34m\u001b[0m\u001b[0;34m\u001b[0m\u001b[0m\n\u001b[1;32m   3457\u001b[0m                 \u001b[0;32mreturn\u001b[0m \u001b[0mself\u001b[0m\u001b[0;34m.\u001b[0m\u001b[0m_getitem_multilevel\u001b[0m\u001b[0;34m(\u001b[0m\u001b[0mkey\u001b[0m\u001b[0;34m)\u001b[0m\u001b[0;34m\u001b[0m\u001b[0;34m\u001b[0m\u001b[0m\n\u001b[0;32m-> 3458\u001b[0;31m             \u001b[0mindexer\u001b[0m \u001b[0;34m=\u001b[0m \u001b[0mself\u001b[0m\u001b[0;34m.\u001b[0m\u001b[0mcolumns\u001b[0m\u001b[0;34m.\u001b[0m\u001b[0mget_loc\u001b[0m\u001b[0;34m(\u001b[0m\u001b[0mkey\u001b[0m\u001b[0;34m)\u001b[0m\u001b[0;34m\u001b[0m\u001b[0;34m\u001b[0m\u001b[0m\n\u001b[0m\u001b[1;32m   3459\u001b[0m             \u001b[0;32mif\u001b[0m \u001b[0mis_integer\u001b[0m\u001b[0;34m(\u001b[0m\u001b[0mindexer\u001b[0m\u001b[0;34m)\u001b[0m\u001b[0;34m:\u001b[0m\u001b[0;34m\u001b[0m\u001b[0;34m\u001b[0m\u001b[0m\n\u001b[1;32m   3460\u001b[0m                 \u001b[0mindexer\u001b[0m \u001b[0;34m=\u001b[0m \u001b[0;34m[\u001b[0m\u001b[0mindexer\u001b[0m\u001b[0;34m]\u001b[0m\u001b[0;34m\u001b[0m\u001b[0;34m\u001b[0m\u001b[0m\n",
      "\u001b[0;32m~/opt/anaconda3/envs/ml/lib/python3.9/site-packages/pandas/core/indexes/base.py\u001b[0m in \u001b[0;36mget_loc\u001b[0;34m(self, key, method, tolerance)\u001b[0m\n\u001b[1;32m   3361\u001b[0m                 \u001b[0;32mreturn\u001b[0m \u001b[0mself\u001b[0m\u001b[0;34m.\u001b[0m\u001b[0m_engine\u001b[0m\u001b[0;34m.\u001b[0m\u001b[0mget_loc\u001b[0m\u001b[0;34m(\u001b[0m\u001b[0mcasted_key\u001b[0m\u001b[0;34m)\u001b[0m\u001b[0;34m\u001b[0m\u001b[0;34m\u001b[0m\u001b[0m\n\u001b[1;32m   3362\u001b[0m             \u001b[0;32mexcept\u001b[0m \u001b[0mKeyError\u001b[0m \u001b[0;32mas\u001b[0m \u001b[0merr\u001b[0m\u001b[0;34m:\u001b[0m\u001b[0;34m\u001b[0m\u001b[0;34m\u001b[0m\u001b[0m\n\u001b[0;32m-> 3363\u001b[0;31m                 \u001b[0;32mraise\u001b[0m \u001b[0mKeyError\u001b[0m\u001b[0;34m(\u001b[0m\u001b[0mkey\u001b[0m\u001b[0;34m)\u001b[0m \u001b[0;32mfrom\u001b[0m \u001b[0merr\u001b[0m\u001b[0;34m\u001b[0m\u001b[0;34m\u001b[0m\u001b[0m\n\u001b[0m\u001b[1;32m   3364\u001b[0m \u001b[0;34m\u001b[0m\u001b[0m\n\u001b[1;32m   3365\u001b[0m         \u001b[0;32mif\u001b[0m \u001b[0mis_scalar\u001b[0m\u001b[0;34m(\u001b[0m\u001b[0mkey\u001b[0m\u001b[0;34m)\u001b[0m \u001b[0;32mand\u001b[0m \u001b[0misna\u001b[0m\u001b[0;34m(\u001b[0m\u001b[0mkey\u001b[0m\u001b[0;34m)\u001b[0m \u001b[0;32mand\u001b[0m \u001b[0;32mnot\u001b[0m \u001b[0mself\u001b[0m\u001b[0;34m.\u001b[0m\u001b[0mhasnans\u001b[0m\u001b[0;34m:\u001b[0m\u001b[0;34m\u001b[0m\u001b[0;34m\u001b[0m\u001b[0m\n",
      "\u001b[0;31mKeyError\u001b[0m: ('CUSTOMER', 'END_CUSTOMER')"
     ]
    }
   ],
   "source": [
    "train['CUSTOMER','END_CUSTOMER']"
   ]
  }
 ],
 "metadata": {
  "kernelspec": {
   "display_name": "Python 3 (ipykernel)",
   "language": "python",
   "name": "python3"
  },
  "language_info": {
   "codemirror_mode": {
    "name": "ipython",
    "version": 3
   },
   "file_extension": ".py",
   "mimetype": "text/x-python",
   "name": "python",
   "nbconvert_exporter": "python",
   "pygments_lexer": "ipython3",
   "version": "3.9.7"
  }
 },
 "nbformat": 4,
 "nbformat_minor": 5
}
